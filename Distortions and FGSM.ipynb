{
 "cells": [
  {
   "cell_type": "code",
   "execution_count": 1,
   "metadata": {},
   "outputs": [],
   "source": [
    "import torch\n",
    "import torchbearer\n",
    "import torch.nn.functional as F\n",
    "import torchvision.transforms as transforms\n",
    "from torch import nn\n",
    "from torch import optim\n",
    "from torch.utils.data import DataLoader\n",
    "from torchvision.datasets import MNIST\n",
    "import numpy as np\n",
    "import pickle\n",
    "from torchbearer.callbacks import LiveLossPlot\n",
    "from itertools import product\n",
    "import gc\n",
    "from scipy.ndimage import gaussian_filter\n",
    "import numpy as np\n",
    "from matplotlib import pyplot as plt\n",
    "import random\n",
    "import torch.nn.functional as F\n",
    "from torch import nn\n",
    "import sys\n",
    "import torchvision.utils\n",
    "from torchvision import models\n",
    "import torchvision.datasets as dsets\n",
    "import torchvision.transforms as transforms"
   ]
  },
  {
   "cell_type": "code",
   "execution_count": 2,
   "metadata": {},
   "outputs": [],
   "source": [
    "# fix random seed for reproducibility\n",
    "seed = 7\n",
    "torch.manual_seed(seed)\n",
    "torch.backends.cudnn.deterministic = True\n",
    "torch.backends.cudnn.benchmark = False\n",
    "np.random.seed(seed)\n",
    "device = \"cuda:0\" if torch.cuda.is_available() else \"cpu\""
   ]
  },
  {
   "cell_type": "code",
   "execution_count": 3,
   "metadata": {},
   "outputs": [],
   "source": [
    "# flatten 28*28 images to a 784 vector for each image\n",
    "transform = transforms.Compose([\n",
    "    transforms.ToTensor(),  # convert to tensor\n",
    "    transforms.Lambda(lambda x: x.view(-1))  # flatten into vector\n",
    "])"
   ]
  },
  {
   "cell_type": "code",
   "execution_count": 4,
   "metadata": {},
   "outputs": [],
   "source": [
    " # define baseline model\n",
    "class BaselineModel(nn.Module):\n",
    "    def __init__(self, input_size, hidden_size, num_classes):\n",
    "        super(BaselineModel, self).__init__()\n",
    "        self.fc1 = nn.Linear(input_size, hidden_size) \n",
    "        self.fc2 = nn.Linear(hidden_size, hidden_size) \n",
    "        self.fc3 = nn.Linear(hidden_size, num_classes)  \n",
    "    \n",
    "    def forward(self, x):\n",
    "        out = self.fc1(x)\n",
    "        out = F.relu(out)\n",
    "        out = F.dropout(out, 0.2)        \n",
    "        out = self.fc2(out)        \n",
    "        out = F.relu(out)\n",
    "        out = self.fc3(out)\n",
    "        if not self.training:\n",
    "            out = F.softmax(out, dim=1)\n",
    "        return out\n",
    "    \n",
    "# Define the ANN  network\n",
    "class NetworkControl(nn.Module):\n",
    "    def __init__(self, input_size, hidden_size, num_classes):\n",
    "        super(NetworkControl, self).__init__()\n",
    "        self.fc1 = nn.Linear(input_size, hidden_size) \n",
    "        self.fc2 = nn.Linear(hidden_size, hidden_size) \n",
    "        self.fc3 = nn.Linear(hidden_size, num_classes)  \n",
    "    \n",
    "    def forward(self, x):\n",
    "        out = self.fc1(x)\n",
    "        out = F.relu(out)\n",
    "        out = F.dropout(out, 0.2)        \n",
    "        out = self.fc2(out)        \n",
    "        out = F.relu(out)\n",
    "        out = F.dropout(out, 0.2)        \n",
    "        out = self.fc3(out)\n",
    "        if not self.training:\n",
    "            out = F.softmax(out, dim=1)\n",
    "        return out\n",
    "    \n",
    "    \n",
    "class BetterCNNforDistillation(nn.Module):\n",
    "    def __init__(self):\n",
    "        super(BetterCNNforDistillation, self).__init__()\n",
    "        self.conv1 = nn.Conv2d(1, 32, (5, 5), padding=0)\n",
    "        self.conv2 = nn.Conv2d(32, 64, (3, 3), padding=0)\n",
    "        self.fc1 = nn.Linear(64 * 5**2, 1024)\n",
    "        self.fc2 = nn.Linear(1024, 50)\n",
    "        self.fc3 = nn.Linear(50, 10)\n",
    "\n",
    "            \n",
    "    def forward(self, x):\n",
    "        out = self.conv1(x)\n",
    "        out = F.relu(out)\n",
    "        out = F.max_pool2d(out, (2,2))\n",
    "        out = self.conv2(out)\n",
    "        out = F.relu(out)\n",
    "        out = F.max_pool2d(out, (2,2))\n",
    "        out = F.dropout(out, 0.2)\n",
    "        out = out.view(out.shape[0], -1)\n",
    "        out = self.fc1(out)\n",
    "        out = F.relu(out)\n",
    "        out = self.fc2(out)\n",
    "        out = F.relu(out)\n",
    "        out = self.fc3(out)\n",
    "        if not self.training:\n",
    "            out = F.softmax(out, dim=1)\n",
    "        return out"
   ]
  },
  {
   "cell_type": "code",
   "execution_count": 5,
   "metadata": {},
   "outputs": [],
   "source": [
    "def fgsm_attack(model, loss, images, labels, eps) :\n",
    "    \n",
    "    images = images.to(device)\n",
    "    labels = labels.to(device)\n",
    "    images.requires_grad = True\n",
    "            \n",
    "    outputs = model(images)\n",
    "    \n",
    "    model.zero_grad()\n",
    "    cost = loss(outputs, labels).to(device)\n",
    "    cost.backward()\n",
    "    \n",
    "    attack_images = images + eps*images.grad.sign()\n",
    "    attack_images = torch.clamp(attack_images, 0, 1)\n",
    "    \n",
    "    return attack_images"
   ]
  },
  {
   "cell_type": "code",
   "execution_count": 6,
   "metadata": {},
   "outputs": [
    {
     "name": "stderr",
     "output_type": "stream",
     "text": [
      "C:\\Users\\ZLY\\AppData\\Roaming\\Python\\Python37\\site-packages\\torchvision\\datasets\\mnist.py:60: UserWarning: test_data has been renamed data\n",
      "  warnings.warn(\"test_data has been renamed data\")\n"
     ]
    },
    {
     "data": {
      "application/vnd.jupyter.widget-view+json": {
       "model_id": "9694341c6d8f47cd9f260fdf0fbbeecc",
       "version_major": 2,
       "version_minor": 0
      },
      "text/plain": [
       "HBox(children=(FloatProgress(value=0.0, description='0/1(e)', max=79.0, style=ProgressStyle(description_width=…"
      ]
     },
     "metadata": {},
     "output_type": "display_data"
    },
    {
     "name": "stdout",
     "output_type": "stream",
     "text": [
      "\n",
      "{'test_loss': 1.565501093864441, 'test_acc': 0.9343999624252319}\n"
     ]
    },
    {
     "data": {
      "application/vnd.jupyter.widget-view+json": {
       "model_id": "31b161b9795949949406917b8d2abfa0",
       "version_major": 2,
       "version_minor": 0
      },
      "text/plain": [
       "HBox(children=(FloatProgress(value=0.0, description='0/1(e)', max=79.0, style=ProgressStyle(description_width=…"
      ]
     },
     "metadata": {},
     "output_type": "display_data"
    },
    {
     "name": "stdout",
     "output_type": "stream",
     "text": [
      "\n",
      "{'test_loss': 1.5767898559570312, 'test_acc': 0.9321999549865723}\n"
     ]
    },
    {
     "data": {
      "application/vnd.jupyter.widget-view+json": {
       "model_id": "f84f84887db345509a65ad6e22500533",
       "version_major": 2,
       "version_minor": 0
      },
      "text/plain": [
       "HBox(children=(FloatProgress(value=0.0, description='0/1(e)', max=79.0, style=ProgressStyle(description_width=…"
      ]
     },
     "metadata": {},
     "output_type": "display_data"
    },
    {
     "name": "stdout",
     "output_type": "stream",
     "text": [
      "\n",
      "{'test_loss': 1.6015400886535645, 'test_acc': 0.8983999490737915}\n"
     ]
    },
    {
     "data": {
      "application/vnd.jupyter.widget-view+json": {
       "model_id": "cddfd1faf2d240ff85b506ef167b8948",
       "version_major": 2,
       "version_minor": 0
      },
      "text/plain": [
       "HBox(children=(FloatProgress(value=0.0, description='0/1(e)', max=79.0, style=ProgressStyle(description_width=…"
      ]
     },
     "metadata": {},
     "output_type": "display_data"
    },
    {
     "name": "stdout",
     "output_type": "stream",
     "text": [
      "\n",
      "{'test_loss': 1.606421709060669, 'test_acc': 0.8824999928474426}\n",
      "Test Accuracy: 91.04 %\n"
     ]
    },
    {
     "data": {
      "application/vnd.jupyter.widget-view+json": {
       "model_id": "b5e45baf7b6f4e97a743e5afd47fa500",
       "version_major": 2,
       "version_minor": 0
      },
      "text/plain": [
       "HBox(children=(FloatProgress(value=0.0, description='0/1(e)', max=79.0, style=ProgressStyle(description_width=…"
      ]
     },
     "metadata": {},
     "output_type": "display_data"
    },
    {
     "name": "stdout",
     "output_type": "stream",
     "text": [
      "\n",
      "{'test_loss': 1.5648747682571411, 'test_acc': 0.9358999729156494}\n"
     ]
    },
    {
     "data": {
      "application/vnd.jupyter.widget-view+json": {
       "model_id": "397c91819f384679864981f17c11f90a",
       "version_major": 2,
       "version_minor": 0
      },
      "text/plain": [
       "HBox(children=(FloatProgress(value=0.0, description='0/1(e)', max=79.0, style=ProgressStyle(description_width=…"
      ]
     },
     "metadata": {},
     "output_type": "display_data"
    },
    {
     "name": "stdout",
     "output_type": "stream",
     "text": [
      "\n",
      "{'test_loss': 1.5739246606826782, 'test_acc': 0.9321999549865723}\n"
     ]
    },
    {
     "data": {
      "application/vnd.jupyter.widget-view+json": {
       "model_id": "8e1be559a21049de8a81fbdc739985ae",
       "version_major": 2,
       "version_minor": 0
      },
      "text/plain": [
       "HBox(children=(FloatProgress(value=0.0, description='0/1(e)', max=79.0, style=ProgressStyle(description_width=…"
      ]
     },
     "metadata": {},
     "output_type": "display_data"
    },
    {
     "name": "stdout",
     "output_type": "stream",
     "text": [
      "\n",
      "{'test_loss': 1.6030700206756592, 'test_acc': 0.8987999558448792}\n"
     ]
    },
    {
     "data": {
      "application/vnd.jupyter.widget-view+json": {
       "model_id": "af444ad937b443539d27fb93e3cdb986",
       "version_major": 2,
       "version_minor": 0
      },
      "text/plain": [
       "HBox(children=(FloatProgress(value=0.0, description='0/1(e)', max=79.0, style=ProgressStyle(description_width=…"
      ]
     },
     "metadata": {},
     "output_type": "display_data"
    },
    {
     "name": "stdout",
     "output_type": "stream",
     "text": [
      "\n",
      "{'test_loss': 1.6067825555801392, 'test_acc': 0.8854999542236328}\n",
      "Test Accuracy: 91.06 %\n"
     ]
    },
    {
     "data": {
      "application/vnd.jupyter.widget-view+json": {
       "model_id": "3fc25de824154eae8885328de527187b",
       "version_major": 2,
       "version_minor": 0
      },
      "text/plain": [
       "HBox(children=(FloatProgress(value=0.0, description='0/1(e)', max=79.0, style=ProgressStyle(description_width=…"
      ]
     },
     "metadata": {},
     "output_type": "display_data"
    },
    {
     "name": "stdout",
     "output_type": "stream",
     "text": [
      "\n",
      "{'test_loss': 1.5698033571243286, 'test_acc': 0.9343999624252319}\n"
     ]
    },
    {
     "data": {
      "application/vnd.jupyter.widget-view+json": {
       "model_id": "2b0baf1363d84e88af81a99202b9ff17",
       "version_major": 2,
       "version_minor": 0
      },
      "text/plain": [
       "HBox(children=(FloatProgress(value=0.0, description='0/1(e)', max=79.0, style=ProgressStyle(description_width=…"
      ]
     },
     "metadata": {},
     "output_type": "display_data"
    },
    {
     "name": "stdout",
     "output_type": "stream",
     "text": [
      "\n",
      "{'test_loss': 1.5804946422576904, 'test_acc': 0.9322999715805054}\n"
     ]
    },
    {
     "data": {
      "application/vnd.jupyter.widget-view+json": {
       "model_id": "d42920ee91484c6f84c48b3314049103",
       "version_major": 2,
       "version_minor": 0
      },
      "text/plain": [
       "HBox(children=(FloatProgress(value=0.0, description='0/1(e)', max=79.0, style=ProgressStyle(description_width=…"
      ]
     },
     "metadata": {},
     "output_type": "display_data"
    },
    {
     "name": "stdout",
     "output_type": "stream",
     "text": [
      "\n",
      "{'test_loss': 1.6061229705810547, 'test_acc': 0.8967999815940857}\n"
     ]
    },
    {
     "data": {
      "application/vnd.jupyter.widget-view+json": {
       "model_id": "e8725f97ada04711990c1e2300945b1e",
       "version_major": 2,
       "version_minor": 0
      },
      "text/plain": [
       "HBox(children=(FloatProgress(value=0.0, description='0/1(e)', max=79.0, style=ProgressStyle(description_width=…"
      ]
     },
     "metadata": {},
     "output_type": "display_data"
    },
    {
     "name": "stdout",
     "output_type": "stream",
     "text": [
      "\n",
      "{'test_loss': 1.6084016561508179, 'test_acc': 0.8805999755859375}\n",
      "Test Accuracy: 90.99 %\n"
     ]
    },
    {
     "data": {
      "application/vnd.jupyter.widget-view+json": {
       "model_id": "09b669a381a7481999840acb6ccb9efa",
       "version_major": 2,
       "version_minor": 0
      },
      "text/plain": [
       "HBox(children=(FloatProgress(value=0.0, description='0/1(e)', max=79.0, style=ProgressStyle(description_width=…"
      ]
     },
     "metadata": {},
     "output_type": "display_data"
    },
    {
     "name": "stdout",
     "output_type": "stream",
     "text": [
      "\n",
      "{'test_loss': 1.8318629264831543, 'test_acc': 0.8075999617576599}\n"
     ]
    },
    {
     "data": {
      "application/vnd.jupyter.widget-view+json": {
       "model_id": "93ad47706555430cabbec5ecfb48a824",
       "version_major": 2,
       "version_minor": 0
      },
      "text/plain": [
       "HBox(children=(FloatProgress(value=0.0, description='0/1(e)', max=79.0, style=ProgressStyle(description_width=…"
      ]
     },
     "metadata": {},
     "output_type": "display_data"
    },
    {
     "name": "stdout",
     "output_type": "stream",
     "text": [
      "\n",
      "{'test_loss': 1.8326623439788818, 'test_acc': 0.8366999626159668}\n"
     ]
    },
    {
     "data": {
      "application/vnd.jupyter.widget-view+json": {
       "model_id": "1a827ad7e17a4743ae665a874d9b85e8",
       "version_major": 2,
       "version_minor": 0
      },
      "text/plain": [
       "HBox(children=(FloatProgress(value=0.0, description='0/1(e)', max=79.0, style=ProgressStyle(description_width=…"
      ]
     },
     "metadata": {},
     "output_type": "display_data"
    },
    {
     "name": "stdout",
     "output_type": "stream",
     "text": [
      "\n",
      "{'test_loss': 1.8069989681243896, 'test_acc': 0.8115999698638916}\n"
     ]
    },
    {
     "data": {
      "application/vnd.jupyter.widget-view+json": {
       "model_id": "e726b81a07e241a38d58f7731e9c760a",
       "version_major": 2,
       "version_minor": 0
      },
      "text/plain": [
       "HBox(children=(FloatProgress(value=0.0, description='0/1(e)', max=79.0, style=ProgressStyle(description_width=…"
      ]
     },
     "metadata": {},
     "output_type": "display_data"
    },
    {
     "name": "stdout",
     "output_type": "stream",
     "text": [
      "\n",
      "{'test_loss': 1.7239372730255127, 'test_acc': 0.835099995136261}\n",
      "Test Accuracy: 76.23 %\n"
     ]
    },
    {
     "data": {
      "application/vnd.jupyter.widget-view+json": {
       "model_id": "8a0d761fa573479296b557fda041299a",
       "version_major": 2,
       "version_minor": 0
      },
      "text/plain": [
       "HBox(children=(FloatProgress(value=0.0, description='0/1(e)', max=79.0, style=ProgressStyle(description_width=…"
      ]
     },
     "metadata": {},
     "output_type": "display_data"
    },
    {
     "name": "stdout",
     "output_type": "stream",
     "text": [
      "\n",
      "{'test_loss': 1.5933507680892944, 'test_acc': 0.926099956035614}\n"
     ]
    },
    {
     "data": {
      "application/vnd.jupyter.widget-view+json": {
       "model_id": "bedb3c761ec4465d8b97de7380168376",
       "version_major": 2,
       "version_minor": 0
      },
      "text/plain": [
       "HBox(children=(FloatProgress(value=0.0, description='0/1(e)', max=79.0, style=ProgressStyle(description_width=…"
      ]
     },
     "metadata": {},
     "output_type": "display_data"
    },
    {
     "name": "stdout",
     "output_type": "stream",
     "text": [
      "\n",
      "{'test_loss': 1.6020100116729736, 'test_acc': 0.9271999597549438}\n"
     ]
    },
    {
     "data": {
      "application/vnd.jupyter.widget-view+json": {
       "model_id": "aac0c67a328b4ca4860a5356f9c2ec41",
       "version_major": 2,
       "version_minor": 0
      },
      "text/plain": [
       "HBox(children=(FloatProgress(value=0.0, description='0/1(e)', max=79.0, style=ProgressStyle(description_width=…"
      ]
     },
     "metadata": {},
     "output_type": "display_data"
    },
    {
     "name": "stdout",
     "output_type": "stream",
     "text": [
      "\n",
      "{'test_loss': 1.6173570156097412, 'test_acc': 0.8934999704360962}\n"
     ]
    },
    {
     "data": {
      "application/vnd.jupyter.widget-view+json": {
       "model_id": "306b4f8f4269487b933b2bdcaefe7fbf",
       "version_major": 2,
       "version_minor": 0
      },
      "text/plain": [
       "HBox(children=(FloatProgress(value=0.0, description='0/1(e)', max=79.0, style=ProgressStyle(description_width=…"
      ]
     },
     "metadata": {},
     "output_type": "display_data"
    },
    {
     "name": "stdout",
     "output_type": "stream",
     "text": [
      "\n",
      "{'test_loss': 1.6290569305419922, 'test_acc': 0.871399998664856}\n",
      "Test Accuracy: 89.93 %\n"
     ]
    },
    {
     "data": {
      "application/vnd.jupyter.widget-view+json": {
       "model_id": "452c1a8a7760423491bcc5ccc1c988e0",
       "version_major": 2,
       "version_minor": 0
      },
      "text/plain": [
       "HBox(children=(FloatProgress(value=0.0, description='0/1(e)', max=79.0, style=ProgressStyle(description_width=…"
      ]
     },
     "metadata": {},
     "output_type": "display_data"
    },
    {
     "name": "stdout",
     "output_type": "stream",
     "text": [
      "\n",
      "{'test_loss': 1.9456079006195068, 'test_acc': 0.6911999583244324}\n"
     ]
    },
    {
     "data": {
      "application/vnd.jupyter.widget-view+json": {
       "model_id": "c187a94efb1848ea8b9d39c93d229216",
       "version_major": 2,
       "version_minor": 0
      },
      "text/plain": [
       "HBox(children=(FloatProgress(value=0.0, description='0/1(e)', max=79.0, style=ProgressStyle(description_width=…"
      ]
     },
     "metadata": {},
     "output_type": "display_data"
    },
    {
     "name": "stdout",
     "output_type": "stream",
     "text": [
      "\n",
      "{'test_loss': 1.9309648275375366, 'test_acc': 0.769599974155426}\n"
     ]
    },
    {
     "data": {
      "application/vnd.jupyter.widget-view+json": {
       "model_id": "56d8a52e4e714db7bd66f4bcf1a7431b",
       "version_major": 2,
       "version_minor": 0
      },
      "text/plain": [
       "HBox(children=(FloatProgress(value=0.0, description='0/1(e)', max=79.0, style=ProgressStyle(description_width=…"
      ]
     },
     "metadata": {},
     "output_type": "display_data"
    },
    {
     "name": "stdout",
     "output_type": "stream",
     "text": [
      "\n",
      "{'test_loss': 1.9033796787261963, 'test_acc': 0.7213000059127808}\n"
     ]
    },
    {
     "data": {
      "application/vnd.jupyter.widget-view+json": {
       "model_id": "d8f0bd2d28bf413dbc315bc6fa4c68bb",
       "version_major": 2,
       "version_minor": 0
      },
      "text/plain": [
       "HBox(children=(FloatProgress(value=0.0, description='0/1(e)', max=79.0, style=ProgressStyle(description_width=…"
      ]
     },
     "metadata": {},
     "output_type": "display_data"
    },
    {
     "name": "stdout",
     "output_type": "stream",
     "text": [
      "\n",
      "{'test_loss': 1.7719603776931763, 'test_acc': 0.8077999949455261}\n",
      "Test Accuracy: 68.33 %\n"
     ]
    },
    {
     "data": {
      "application/vnd.jupyter.widget-view+json": {
       "model_id": "689d59d4b18441b09a3920760a00e2db",
       "version_major": 2,
       "version_minor": 0
      },
      "text/plain": [
       "HBox(children=(FloatProgress(value=0.0, description='0/1(e)', max=79.0, style=ProgressStyle(description_width=…"
      ]
     },
     "metadata": {},
     "output_type": "display_data"
    },
    {
     "name": "stdout",
     "output_type": "stream",
     "text": [
      "\n",
      "{'test_loss': 1.645725965499878, 'test_acc': 0.9079999923706055}\n"
     ]
    },
    {
     "data": {
      "application/vnd.jupyter.widget-view+json": {
       "model_id": "17f2bb83942142578ba13230914c0d4d",
       "version_major": 2,
       "version_minor": 0
      },
      "text/plain": [
       "HBox(children=(FloatProgress(value=0.0, description='0/1(e)', max=79.0, style=ProgressStyle(description_width=…"
      ]
     },
     "metadata": {},
     "output_type": "display_data"
    },
    {
     "name": "stdout",
     "output_type": "stream",
     "text": [
      "\n",
      "{'test_loss': 1.6529091596603394, 'test_acc': 0.9146999716758728}\n"
     ]
    },
    {
     "data": {
      "application/vnd.jupyter.widget-view+json": {
       "model_id": "c32feeb43eb643ec9434ebf4f68be997",
       "version_major": 2,
       "version_minor": 0
      },
      "text/plain": [
       "HBox(children=(FloatProgress(value=0.0, description='0/1(e)', max=79.0, style=ProgressStyle(description_width=…"
      ]
     },
     "metadata": {},
     "output_type": "display_data"
    },
    {
     "name": "stdout",
     "output_type": "stream",
     "text": [
      "\n",
      "{'test_loss': 1.6457992792129517, 'test_acc': 0.8828999996185303}\n"
     ]
    },
    {
     "data": {
      "application/vnd.jupyter.widget-view+json": {
       "model_id": "5d3ce37f1bfd4ef692e5e822ec3134cb",
       "version_major": 2,
       "version_minor": 0
      },
      "text/plain": [
       "HBox(children=(FloatProgress(value=0.0, description='0/1(e)', max=79.0, style=ProgressStyle(description_width=…"
      ]
     },
     "metadata": {},
     "output_type": "display_data"
    },
    {
     "name": "stdout",
     "output_type": "stream",
     "text": [
      "\n",
      "{'test_loss': 1.6650217771530151, 'test_acc': 0.847599983215332}\n",
      "Test Accuracy: 87.22 %\n"
     ]
    },
    {
     "data": {
      "application/vnd.jupyter.widget-view+json": {
       "model_id": "b19fc7323b7c4b979c2da007581dc085",
       "version_major": 2,
       "version_minor": 0
      },
      "text/plain": [
       "HBox(children=(FloatProgress(value=0.0, description='0/1(e)', max=79.0, style=ProgressStyle(description_width=…"
      ]
     },
     "metadata": {},
     "output_type": "display_data"
    },
    {
     "name": "stdout",
     "output_type": "stream",
     "text": [
      "\n",
      "{'test_loss': 2.0242159366607666, 'test_acc': 0.5748999714851379}\n"
     ]
    },
    {
     "data": {
      "application/vnd.jupyter.widget-view+json": {
       "model_id": "7db25470230d4794ba75e68a1ea5cebb",
       "version_major": 2,
       "version_minor": 0
      },
      "text/plain": [
       "HBox(children=(FloatProgress(value=0.0, description='0/1(e)', max=79.0, style=ProgressStyle(description_width=…"
      ]
     },
     "metadata": {},
     "output_type": "display_data"
    },
    {
     "name": "stdout",
     "output_type": "stream",
     "text": [
      "\n",
      "{'test_loss': 2.0018551349639893, 'test_acc': 0.6820999979972839}\n"
     ]
    },
    {
     "data": {
      "application/vnd.jupyter.widget-view+json": {
       "model_id": "db7ea82a12ad4b22962e89cc30954c5a",
       "version_major": 2,
       "version_minor": 0
      },
      "text/plain": [
       "HBox(children=(FloatProgress(value=0.0, description='0/1(e)', max=79.0, style=ProgressStyle(description_width=…"
      ]
     },
     "metadata": {},
     "output_type": "display_data"
    },
    {
     "name": "stdout",
     "output_type": "stream",
     "text": [
      "\n",
      "{'test_loss': 1.9764602184295654, 'test_acc': 0.6222000122070312}\n"
     ]
    },
    {
     "data": {
      "application/vnd.jupyter.widget-view+json": {
       "model_id": "eeb2fee3d99543c9864f937d5b92178d",
       "version_major": 2,
       "version_minor": 0
      },
      "text/plain": [
       "HBox(children=(FloatProgress(value=0.0, description='0/1(e)', max=79.0, style=ProgressStyle(description_width=…"
      ]
     },
     "metadata": {},
     "output_type": "display_data"
    },
    {
     "name": "stdout",
     "output_type": "stream",
     "text": [
      "\n",
      "{'test_loss': 1.805287480354309, 'test_acc': 0.7879999876022339}\n",
      "Test Accuracy: 62.52 %\n"
     ]
    },
    {
     "data": {
      "application/vnd.jupyter.widget-view+json": {
       "model_id": "7ed78a81489f4130ba329bc5ec35b632",
       "version_major": 2,
       "version_minor": 0
      },
      "text/plain": [
       "HBox(children=(FloatProgress(value=0.0, description='0/1(e)', max=79.0, style=ProgressStyle(description_width=…"
      ]
     },
     "metadata": {},
     "output_type": "display_data"
    },
    {
     "name": "stdout",
     "output_type": "stream",
     "text": [
      "\n",
      "{'test_loss': 1.7348262071609497, 'test_acc': 0.8687999844551086}\n"
     ]
    },
    {
     "data": {
      "application/vnd.jupyter.widget-view+json": {
       "model_id": "c352b03e4816445f89375d033f0d32c7",
       "version_major": 2,
       "version_minor": 0
      },
      "text/plain": [
       "HBox(children=(FloatProgress(value=0.0, description='0/1(e)', max=79.0, style=ProgressStyle(description_width=…"
      ]
     },
     "metadata": {},
     "output_type": "display_data"
    },
    {
     "name": "stdout",
     "output_type": "stream",
     "text": [
      "\n",
      "{'test_loss': 1.7386977672576904, 'test_acc': 0.8896999955177307}\n"
     ]
    },
    {
     "data": {
      "application/vnd.jupyter.widget-view+json": {
       "model_id": "7dd6b5e321d04ba6b938e5abe59bf2a4",
       "version_major": 2,
       "version_minor": 0
      },
      "text/plain": [
       "HBox(children=(FloatProgress(value=0.0, description='0/1(e)', max=79.0, style=ProgressStyle(description_width=…"
      ]
     },
     "metadata": {},
     "output_type": "display_data"
    },
    {
     "name": "stdout",
     "output_type": "stream",
     "text": [
      "\n",
      "{'test_loss': 1.6948058605194092, 'test_acc': 0.8628999590873718}\n"
     ]
    },
    {
     "data": {
      "application/vnd.jupyter.widget-view+json": {
       "model_id": "1104e52f3bcf40248e1b9e049e17d438",
       "version_major": 2,
       "version_minor": 0
      },
      "text/plain": [
       "HBox(children=(FloatProgress(value=0.0, description='0/1(e)', max=79.0, style=ProgressStyle(description_width=…"
      ]
     },
     "metadata": {},
     "output_type": "display_data"
    },
    {
     "name": "stdout",
     "output_type": "stream",
     "text": [
      "\n",
      "{'test_loss': 1.72735595703125, 'test_acc': 0.7973999977111816}\n",
      "Test Accuracy: 82.38 %\n"
     ]
    },
    {
     "data": {
      "application/vnd.jupyter.widget-view+json": {
       "model_id": "52e89ecc9d374dc693ea08ec932728c7",
       "version_major": 2,
       "version_minor": 0
      },
      "text/plain": [
       "HBox(children=(FloatProgress(value=0.0, description='0/1(e)', max=79.0, style=ProgressStyle(description_width=…"
      ]
     },
     "metadata": {},
     "output_type": "display_data"
    },
    {
     "name": "stdout",
     "output_type": "stream",
     "text": [
      "\n",
      "{'test_loss': 2.0881996154785156, 'test_acc': 0.4657000005245209}\n"
     ]
    },
    {
     "data": {
      "application/vnd.jupyter.widget-view+json": {
       "model_id": "0d60692d678347ea9297d57a0d1e2be6",
       "version_major": 2,
       "version_minor": 0
      },
      "text/plain": [
       "HBox(children=(FloatProgress(value=0.0, description='0/1(e)', max=79.0, style=ProgressStyle(description_width=…"
      ]
     },
     "metadata": {},
     "output_type": "display_data"
    },
    {
     "name": "stdout",
     "output_type": "stream",
     "text": [
      "\n",
      "{'test_loss': 2.063019037246704, 'test_acc': 0.5690000057220459}\n"
     ]
    },
    {
     "data": {
      "application/vnd.jupyter.widget-view+json": {
       "model_id": "aeb295332c7e4088ac255d0c82636f21",
       "version_major": 2,
       "version_minor": 0
      },
      "text/plain": [
       "HBox(children=(FloatProgress(value=0.0, description='0/1(e)', max=79.0, style=ProgressStyle(description_width=…"
      ]
     },
     "metadata": {},
     "output_type": "display_data"
    },
    {
     "name": "stdout",
     "output_type": "stream",
     "text": [
      "\n",
      "{'test_loss': 2.0427768230438232, 'test_acc': 0.5198000073432922}\n"
     ]
    },
    {
     "data": {
      "application/vnd.jupyter.widget-view+json": {
       "model_id": "72b47c5a394044edba3798f89ebec91e",
       "version_major": 2,
       "version_minor": 0
      },
      "text/plain": [
       "HBox(children=(FloatProgress(value=0.0, description='0/1(e)', max=79.0, style=ProgressStyle(description_width=…"
      ]
     },
     "metadata": {},
     "output_type": "display_data"
    },
    {
     "name": "stdout",
     "output_type": "stream",
     "text": [
      "\n",
      "{'test_loss': 1.845867395401001, 'test_acc': 0.743399977684021}\n",
      "Test Accuracy: 55.53 %\n"
     ]
    },
    {
     "data": {
      "application/vnd.jupyter.widget-view+json": {
       "model_id": "a2cf71493df448cd847e652bfd5c87a1",
       "version_major": 2,
       "version_minor": 0
      },
      "text/plain": [
       "HBox(children=(FloatProgress(value=0.0, description='0/1(e)', max=79.0, style=ProgressStyle(description_width=…"
      ]
     },
     "metadata": {},
     "output_type": "display_data"
    },
    {
     "name": "stdout",
     "output_type": "stream",
     "text": [
      "\n",
      "{'test_loss': 1.8550349473953247, 'test_acc': 0.7856000065803528}\n"
     ]
    },
    {
     "data": {
      "application/vnd.jupyter.widget-view+json": {
       "model_id": "423b96381c504d4f9bd37d1a579ee830",
       "version_major": 2,
       "version_minor": 0
      },
      "text/plain": [
       "HBox(children=(FloatProgress(value=0.0, description='0/1(e)', max=79.0, style=ProgressStyle(description_width=…"
      ]
     },
     "metadata": {},
     "output_type": "display_data"
    },
    {
     "name": "stdout",
     "output_type": "stream",
     "text": [
      "\n",
      "{'test_loss': 1.8525346517562866, 'test_acc': 0.8447999954223633}\n"
     ]
    },
    {
     "data": {
      "application/vnd.jupyter.widget-view+json": {
       "model_id": "9a4b81d0f4be4710a02f5cec86467099",
       "version_major": 2,
       "version_minor": 0
      },
      "text/plain": [
       "HBox(children=(FloatProgress(value=0.0, description='0/1(e)', max=79.0, style=ProgressStyle(description_width=…"
      ]
     },
     "metadata": {},
     "output_type": "display_data"
    },
    {
     "name": "stdout",
     "output_type": "stream",
     "text": [
      "\n",
      "{'test_loss': 1.7692509889602661, 'test_acc': 0.8281999826431274}\n"
     ]
    },
    {
     "data": {
      "application/vnd.jupyter.widget-view+json": {
       "model_id": "9137977d68b3498e8364e574c7af37c2",
       "version_major": 2,
       "version_minor": 0
      },
      "text/plain": [
       "HBox(children=(FloatProgress(value=0.0, description='0/1(e)', max=79.0, style=ProgressStyle(description_width=…"
      ]
     },
     "metadata": {},
     "output_type": "display_data"
    },
    {
     "name": "stdout",
     "output_type": "stream",
     "text": [
      "\n",
      "{'test_loss': 1.8229596614837646, 'test_acc': 0.7134000062942505}\n",
      "Test Accuracy: 74.56 %\n"
     ]
    },
    {
     "data": {
      "application/vnd.jupyter.widget-view+json": {
       "model_id": "0f03b4f8038a4c6ba2ceb57d8e41754c",
       "version_major": 2,
       "version_minor": 0
      },
      "text/plain": [
       "HBox(children=(FloatProgress(value=0.0, description='0/1(e)', max=79.0, style=ProgressStyle(description_width=…"
      ]
     },
     "metadata": {},
     "output_type": "display_data"
    },
    {
     "name": "stdout",
     "output_type": "stream",
     "text": [
      "\n",
      "{'test_loss': 2.139343738555908, 'test_acc': 0.37049999833106995}\n"
     ]
    },
    {
     "data": {
      "application/vnd.jupyter.widget-view+json": {
       "model_id": "e91d69c7f8a64afdad33dba4f6737cc5",
       "version_major": 2,
       "version_minor": 0
      },
      "text/plain": [
       "HBox(children=(FloatProgress(value=0.0, description='0/1(e)', max=79.0, style=ProgressStyle(description_width=…"
      ]
     },
     "metadata": {},
     "output_type": "display_data"
    },
    {
     "name": "stdout",
     "output_type": "stream",
     "text": [
      "\n",
      "{'test_loss': 2.1199564933776855, 'test_acc': 0.45799997448921204}\n"
     ]
    },
    {
     "data": {
      "application/vnd.jupyter.widget-view+json": {
       "model_id": "0c5a6a1dc91f4e05b8978f87e5c587be",
       "version_major": 2,
       "version_minor": 0
      },
      "text/plain": [
       "HBox(children=(FloatProgress(value=0.0, description='0/1(e)', max=79.0, style=ProgressStyle(description_width=…"
      ]
     },
     "metadata": {},
     "output_type": "display_data"
    },
    {
     "name": "stdout",
     "output_type": "stream",
     "text": [
      "\n",
      "{'test_loss': 2.102234363555908, 'test_acc': 0.4194999933242798}\n"
     ]
    },
    {
     "data": {
      "application/vnd.jupyter.widget-view+json": {
       "model_id": "181e4b41c1ff4897b08a04d4a51220c8",
       "version_major": 2,
       "version_minor": 0
      },
      "text/plain": [
       "HBox(children=(FloatProgress(value=0.0, description='0/1(e)', max=79.0, style=ProgressStyle(description_width=…"
      ]
     },
     "metadata": {},
     "output_type": "display_data"
    },
    {
     "name": "stdout",
     "output_type": "stream",
     "text": [
      "\n",
      "{'test_loss': 1.8851869106292725, 'test_acc': 0.7062999606132507}\n",
      "Test Accuracy: 47.74 %\n"
     ]
    }
   ],
   "source": [
    "#plot\n",
    "\n",
    "trainset = MNIST(\".\", train=True, download=True, transform=transform)\n",
    "testset = MNIST(\".\", train=False, download=True, transform=transform)\n",
    "trainset.data = trainset.data[0:27105]\n",
    "trainset.targets = trainset.targets[0:27105]\n",
    "\n",
    "\n",
    "sigma_values = [0, 0.5, 1.0, 1.5, 2.0, 2.5]\n",
    "variance_values = [0, 0.2, 0.4, 0.6, 0.8, 1.0]\n",
    "blur_acc_control = []\n",
    "blur_acc_sleep = []\n",
    "blur_acc_finetune_noise = []\n",
    "blur_acc_finetune_blur = []\n",
    "blur_acc_dis = []\n",
    "noise_acc_control = []\n",
    "noise_acc_sleep = []\n",
    "noise_acc_finetune_noise = []\n",
    "noise_acc_finetune_blur = []\n",
    "noise_acc_dis = []\n",
    "\n",
    "for i in range(len(sigma_values)):\n",
    "    \n",
    "    j = i\n",
    "    \n",
    "    #blur data\n",
    "    trainset = MNIST(\".\", train=True, download=True, transform=transform)\n",
    "    testset = MNIST(\".\", train=False, download=True, transform=transform)\n",
    "    trainset.data = trainset.data[0:27105]\n",
    "    trainset.targets = trainset.targets[0:27105]\n",
    "\n",
    "\n",
    "\n",
    "    # function to blur each MNIST image\n",
    "    def blur(x, sig):\n",
    "        return gaussian_filter(x, sigma=sig)\n",
    "    \n",
    "\n",
    "    # Distort the test set #\n",
    "    for i in range(len(testset)):\n",
    "        # gaussian blur the image with the chosen sigma value\n",
    "        blurredImage = blur(testset.test_data[i].numpy(), sigma_values[j])\n",
    "        # update the training set with the blurred image\n",
    "        testset.test_data[i] = torch.from_numpy(blurredImage)\n",
    "    \n",
    "    trainloader = DataLoader(trainset, batch_size=128, shuffle=True)\n",
    "    testloader = DataLoader(testset, batch_size=128, shuffle=True)\n",
    "    \n",
    "    #test the controlled network\n",
    "    model = torch.load('save_ann.pkl')\n",
    "    loss_function = nn.CrossEntropyLoss()\n",
    "    # live_loss_plot = LiveLossPlot()\n",
    "    optimiser = optim.SGD(model.parameters(), lr=0.1, momentum=0.5)\n",
    "    # trial = torchbearer.Trial(model, optimiser, loss_function, callbacks=[live_loss_plot], metrics=['loss', 'accuracy']).to(device)\n",
    "    trial = torchbearer.Trial(model, optimiser, loss_function,metrics=['loss', 'accuracy']).to(device)\n",
    "    trial.with_generators(trainloader, test_generator=testloader)\n",
    "    results = trial.evaluate(data_key=torchbearer.TEST_DATA)\n",
    "    print(results)\n",
    "    blur_acc_control.append(100.0 * results[\"test_acc\"])\n",
    "    \n",
    "    #test the sleeping network\n",
    "    model = torch.load('save_sleep.pkl')\n",
    "    loss_function = nn.CrossEntropyLoss()\n",
    "    # live_loss_plot = LiveLossPlot()\n",
    "    optimiser = optim.SGD(model.parameters(), lr=0.1, momentum=0.5)\n",
    "    # trial = torchbearer.Trial(model, optimiser, loss_function, callbacks=[live_loss_plot], metrics=['loss', 'accuracy']).to(device)\n",
    "    trial = torchbearer.Trial(model, optimiser, loss_function,metrics=['loss', 'accuracy']).to(device)\n",
    "    trial.with_generators(trainloader, test_generator=testloader)\n",
    "    results = trial.evaluate(data_key=torchbearer.TEST_DATA)\n",
    "    print(results)\n",
    "    blur_acc_sleep.append(100.0 * results[\"test_acc\"])\n",
    "    \n",
    "    #test the fine-tuning-blur network\n",
    "    model = torch.load('save_blur.pkl')\n",
    "    loss_function = nn.CrossEntropyLoss()\n",
    "    # live_loss_plot = LiveLossPlot()\n",
    "    optimiser = optim.SGD(model.parameters(), lr=0.1, momentum=0.5)\n",
    "    trial = torchbearer.Trial(model, optimiser, loss_function, metrics=['loss', 'accuracy']).to(device)\n",
    "    trial.with_generators(trainloader, test_generator=testloader)\n",
    "    results = trial.evaluate(data_key=torchbearer.TEST_DATA)\n",
    "    print(results)\n",
    "    blur_acc_finetune_blur.append(100.0 * results[\"test_acc\"])\n",
    "    \n",
    "    #test the fine-tuning-noise network\n",
    "    model = torch.load('save_noise.pkl')\n",
    "    loss_function = nn.CrossEntropyLoss()\n",
    "    # live_loss_plot = LiveLossPlot()\n",
    "    optimiser = optim.SGD(model.parameters(), lr=0.1, momentum=0.5)\n",
    "    trial = torchbearer.Trial(model, optimiser, loss_function, metrics=['loss', 'accuracy']).to(device)\n",
    "    trial.with_generators(trainloader, test_generator=testloader)\n",
    "    results = trial.evaluate(data_key=torchbearer.TEST_DATA)\n",
    "    print(results)\n",
    "    blur_acc_finetune_noise.append(100.0 * results[\"test_acc\"])\n",
    "    \n",
    "    #test the distillion network\n",
    "    model = torch.load('save_dis.pkl')\n",
    "    model.eval()\n",
    "\n",
    "    # Compute the model accuracy on the test set\n",
    "    correct = 0\n",
    "    total = 0\n",
    "\n",
    "    for data in testloader:\n",
    "        inputs, labels = data\n",
    "        inputs = torch.reshape(inputs, [-1, 1,28,28])\n",
    "        inputs = inputs.to(device)\n",
    "        labels = labels.to(device)\n",
    "        outputs = model(inputs)\n",
    "        predictions = torch.argmax(outputs, 1)\n",
    "        correct += (predictions == labels).sum().float()\n",
    "        total += len(labels)\n",
    "    print('Test Accuracy: %2.2f %%' % ((100.0 * correct) / total))\n",
    "    blur_acc_dis.append(((100.0 * correct) / total).item())\n",
    "    \n",
    "    \n",
    "    \n",
    "    #noise data\n",
    "    trainset = MNIST(\".\", train=True, download=True, transform=transform)\n",
    "    testset = MNIST(\".\", train=False, download=True, transform=transform)\n",
    "    trainset.data = trainset.data[0:27105]\n",
    "    trainset.targets = trainset.targets[0:27105]\n",
    "    \n",
    "    def noise(x, var):\n",
    "        return x + var * x.std() * np.random.random(x.shape)\n",
    "\n",
    "    for i in range(len(testset)):\n",
    "        # add gaussian noise to the image with the chosen variance value\n",
    "        noisyImage = noise(testset.test_data[i].numpy(), variance_values[j])\n",
    "        # update the training set with the noise image\n",
    "        testset.test_data[i] = torch.from_numpy(noisyImage)\n",
    "    \n",
    "    trainloader = DataLoader(trainset, batch_size=128, shuffle=True)\n",
    "    testloader = DataLoader(testset, batch_size=128, shuffle=True)\n",
    "    \n",
    "    #test the controlled network\n",
    "    model = torch.load('save_ann.pkl')\n",
    "    loss_function = nn.CrossEntropyLoss()\n",
    "    # live_loss_plot = LiveLossPlot()\n",
    "    optimiser = optim.SGD(model.parameters(), lr=0.1, momentum=0.5)\n",
    "    trial = torchbearer.Trial(model, optimiser, loss_function, metrics=['loss', 'accuracy']).to(device)\n",
    "    trial.with_generators(trainloader, test_generator=testloader)\n",
    "    results = trial.evaluate(data_key=torchbearer.TEST_DATA)\n",
    "    print(results)\n",
    "    noise_acc_control.append(100.0 * results[\"test_acc\"])\n",
    "    \n",
    "    #test the sleeping network\n",
    "    model = torch.load('save_sleep.pkl')\n",
    "    loss_function = nn.CrossEntropyLoss()\n",
    "    # live_loss_plot = LiveLossPlot()\n",
    "    optimiser = optim.SGD(model.parameters(), lr=0.1, momentum=0.5)\n",
    "    trial = torchbearer.Trial(model, optimiser, loss_function, metrics=['loss', 'accuracy']).to(device)\n",
    "    trial.with_generators(trainloader, test_generator=testloader)\n",
    "    results = trial.evaluate(data_key=torchbearer.TEST_DATA)\n",
    "    print(results)\n",
    "    noise_acc_sleep.append(100.0 * results[\"test_acc\"])\n",
    "    \n",
    "    #test the fine-tuning-blur network\n",
    "    model = torch.load('save_blur.pkl')\n",
    "    loss_function = nn.CrossEntropyLoss()\n",
    "    # live_loss_plot = LiveLossPlot()\n",
    "    optimiser = optim.SGD(model.parameters(), lr=0.1, momentum=0.5)\n",
    "    trial = torchbearer.Trial(model, optimiser, loss_function, metrics=['loss', 'accuracy']).to(device)\n",
    "    trial.with_generators(trainloader, test_generator=testloader)\n",
    "    results = trial.evaluate(data_key=torchbearer.TEST_DATA)\n",
    "    print(results)\n",
    "    noise_acc_finetune_blur.append(100.0 * results[\"test_acc\"])\n",
    "    \n",
    "    #test the fine-tuning-noise network\n",
    "    model = torch.load('save_noise.pkl')\n",
    "    loss_function = nn.CrossEntropyLoss()\n",
    "    # live_loss_plot = LiveLossPlot()\n",
    "    optimiser = optim.SGD(model.parameters(), lr=0.1, momentum=0.5)\n",
    "    trial = torchbearer.Trial(model, optimiser, loss_function, metrics=['loss', 'accuracy']).to(device)\n",
    "    trial.with_generators(trainloader, test_generator=testloader)\n",
    "    results = trial.evaluate(data_key=torchbearer.TEST_DATA)\n",
    "    print(results)\n",
    "    noise_acc_finetune_noise.append(100.0 * results[\"test_acc\"])\n",
    "    \n",
    "    #test the distillion network\n",
    "    model = torch.load('save_dis.pkl')\n",
    "    model.eval()\n",
    "    # Compute the model accuracy on the test set\n",
    "    correct = 0\n",
    "    total = 0\n",
    "    for data in testloader:\n",
    "        inputs, labels = data\n",
    "        inputs = torch.reshape(inputs, [-1, 1,28,28])\n",
    "        inputs = inputs.to(device)\n",
    "        labels = labels.to(device)\n",
    "        outputs = model(inputs)\n",
    "        predictions = torch.argmax(outputs, 1)\n",
    "        correct += (predictions == labels).sum().float()\n",
    "        total += len(labels)\n",
    "    print('Test Accuracy: %2.2f %%' % ((100.0 * correct) / total))\n",
    "    noise_acc_dis.append(((100.0 * correct) / total).item())"
   ]
  },
  {
   "cell_type": "code",
   "execution_count": 7,
   "metadata": {},
   "outputs": [
    {
     "data": {
      "image/png": "[encoded data removed]",
      "text/plain": [
       "<Figure size 432x288 with 1 Axes>"
      ]
     },
     "metadata": {
      "needs_background": "light"
     },
     "output_type": "display_data"
    }
   ],
   "source": [
    "plt.plot(sigma_values, blur_acc_control, label='Control')\n",
    "plt.plot(sigma_values, blur_acc_sleep, label='Sleep')\n",
    "plt.plot(sigma_values, blur_acc_finetune_noise, label='Finetune-noise')\n",
    "plt.plot(sigma_values, blur_acc_finetune_blur, label='Finetune-blur')\n",
    "plt.plot(sigma_values, blur_acc_dis, label='Dif.Dist')\n",
    "plt.legend()\n",
    "plt.show()"
   ]
  },
  {
   "cell_type": "code",
   "execution_count": 8,
   "metadata": {},
   "outputs": [
    {
     "data": {
      "image/png": "[encoded data removed]",
      "text/plain": [
       "<Figure size 432x288 with 1 Axes>"
      ]
     },
     "metadata": {
      "needs_background": "light"
     },
     "output_type": "display_data"
    }
   ],
   "source": [
    "plt.plot(variance_values, noise_acc_control, label='Control')\n",
    "plt.plot(variance_values, noise_acc_sleep, label='Sleep')\n",
    "plt.plot(variance_values, noise_acc_finetune_noise, label='Finetune-noise')\n",
    "plt.plot(variance_values, noise_acc_finetune_blur, label='Finetune-blur')\n",
    "plt.plot(variance_values, noise_acc_dis, label='Dif.Dist')\n",
    "plt.legend()\n",
    "plt.show()"
   ]
  },
  {
   "cell_type": "code",
   "execution_count": 34,
   "metadata": {},
   "outputs": [
    {
     "name": "stdout",
     "output_type": "stream",
     "text": [
      "Attack Image & Predicted Label\n",
      "Accuracy of test text: 93.600000 %\n",
      "Accuracy of test text: 92.840000 %\n",
      "Accuracy of test text: 88.230000 %\n",
      "Accuracy of test text: 89.810000 %\n",
      "Accuracy of test text: 89.900000 %\n",
      "Attack Image & Predicted Label\n",
      "Accuracy of test text: 81.660000 %\n",
      "Accuracy of test text: 81.350000 %\n",
      "Accuracy of test text: 74.540000 %\n",
      "Accuracy of test text: 75.900000 %\n",
      "Accuracy of test text: 81.760000 %\n",
      "Attack Image & Predicted Label\n",
      "Accuracy of test text: 56.180000 %\n",
      "Accuracy of test text: 58.970000 %\n",
      "Accuracy of test text: 52.260000 %\n",
      "Accuracy of test text: 52.800000 %\n",
      "Accuracy of test text: 72.390000 %\n",
      "Attack Image & Predicted Label\n",
      "Accuracy of test text: 25.610000 %\n",
      "Accuracy of test text: 30.440000 %\n",
      "Accuracy of test text: 28.190000 %\n",
      "Accuracy of test text: 27.400000 %\n",
      "Accuracy of test text: 60.640000 %\n",
      "Attack Image & Predicted Label\n",
      "Accuracy of test text: 9.560000 %\n",
      "Accuracy of test text: 11.210000 %\n",
      "Accuracy of test text: 12.950000 %\n",
      "Accuracy of test text: 10.630000 %\n",
      "Accuracy of test text: 47.160000 %\n",
      "Attack Image & Predicted Label\n",
      "Accuracy of test text: 2.890000 %\n",
      "Accuracy of test text: 3.350000 %\n",
      "Accuracy of test text: 5.150000 %\n",
      "Accuracy of test text: 3.850000 %\n",
      "Accuracy of test text: 32.810000 %\n"
     ]
    }
   ],
   "source": [
    "eps = [0,0.04,0.08,0.12,0.16,0.2]\n",
    "fgsm_acc_control = []\n",
    "fgsm_acc_sleep = []\n",
    "fgsm_acc_finetune_noise = []\n",
    "fgsm_acc_finetune_blur = []\n",
    "fgsm_acc_dis = []\n",
    "for i in range(len(eps)):\n",
    "     #FGSM   \n",
    "    print(\"Attack Image & Predicted Label\")\n",
    "    loss_function = nn.CrossEntropyLoss()\n",
    "\n",
    "    \n",
    "\n",
    "    trainset = MNIST(\".\", train=True, download=True, transform=transform)\n",
    "    testset = MNIST(\".\", train=False, download=True, transform=transform)\n",
    "    trainset.data = trainset.data[0:27105]\n",
    "    trainset.targets = trainset.targets[0:27105]\n",
    "    trainloader = DataLoader(trainset, batch_size=128, shuffle=True)\n",
    "    testloader = DataLoader(testset, batch_size=128, shuffle=True)\n",
    "    \n",
    "    \n",
    "    model = torch.load('save_ann.pkl')\n",
    "    model.eval()\n",
    "    loss_function = nn.CrossEntropyLoss()\n",
    "    correct = 0\n",
    "    total = 0\n",
    "    for images, labels in testloader:\n",
    "    \n",
    "        images = fgsm_attack(model, loss_function, images, labels, eps[i]).to(device)\n",
    "        labels = labels.to(device)\n",
    "        outputs = model(images)\n",
    "\n",
    "        _, pre = torch.max(outputs.data, 1)\n",
    "\n",
    "        total += labels.shape[0]\n",
    "        correct += (pre == labels).sum()\n",
    "    \n",
    "    #     imshow(torchvision.utils.make_grid(images.cpu().data, normalize=True), [normal_data.classes[i] for i in pre])\n",
    "    \n",
    "    print('Accuracy of test text: %f %%' % (100 * float(correct) / total))\n",
    "    fgsm_acc_control.append(100 * float(correct) / total)\n",
    "    \n",
    "    model = torch.load('save_sleep.pkl')\n",
    "    model.eval()\n",
    "    loss_function = nn.CrossEntropyLoss()\n",
    "    correct = 0\n",
    "    total = 0\n",
    "    for images, labels in testloader:\n",
    "    \n",
    "        images = fgsm_attack(model, loss_function, images, labels, eps[i]).to(device)\n",
    "        labels = labels.to(device)\n",
    "        outputs = model(images)\n",
    "\n",
    "        _, pre = torch.max(outputs.data, 1)\n",
    "\n",
    "        total += labels.shape[0]\n",
    "        correct += (pre == labels).sum()\n",
    "    \n",
    "    #     imshow(torchvision.utils.make_grid(images.cpu().data, normalize=True), [normal_data.classes[i] for i in pre])\n",
    "    \n",
    "    print('Accuracy of test text: %f %%' % (100 * float(correct) / total))\n",
    "    fgsm_acc_sleep.append(100 * float(correct) / total)\n",
    "    \n",
    "    model = torch.load('save_noise.pkl')\n",
    "    model.eval()\n",
    "    loss_function = nn.CrossEntropyLoss()\n",
    "    correct = 0\n",
    "    total = 0\n",
    "    for images, labels in testloader:\n",
    "    \n",
    "        images = fgsm_attack(model, loss_function, images, labels, eps[i]).to(device)\n",
    "        labels = labels.to(device)\n",
    "        outputs = model(images)\n",
    "\n",
    "        _, pre = torch.max(outputs.data, 1)\n",
    "\n",
    "        total += labels.shape[0]\n",
    "        correct += (pre == labels).sum()\n",
    "    \n",
    "    #     imshow(torchvision.utils.make_grid(images.cpu().data, normalize=True), [normal_data.classes[i] for i in pre])\n",
    "    \n",
    "    print('Accuracy of test text: %f %%' % (100 * float(correct) / total))\n",
    "    fgsm_acc_finetune_noise.append(100 * float(correct) / total)\n",
    "    \n",
    "    model = torch.load('save_blur.pkl')\n",
    "    model.eval()\n",
    "    loss_function = nn.CrossEntropyLoss()\n",
    "    correct = 0\n",
    "    total = 0\n",
    "    for images, labels in testloader:\n",
    "    \n",
    "        images = fgsm_attack(model, loss_function, images, labels, eps[i]).to(device)\n",
    "        labels = labels.to(device)\n",
    "        outputs = model(images)\n",
    "\n",
    "        _, pre = torch.max(outputs.data, 1)\n",
    "\n",
    "        total += labels.shape[0]\n",
    "        correct += (pre == labels).sum()\n",
    "    \n",
    "    #     imshow(torchvision.utils.make_grid(images.cpu().data, normalize=True), [normal_data.classes[i] for i in pre])\n",
    "    \n",
    "    print('Accuracy of test text: %f %%' % (100 * float(correct) / total))\n",
    "    fgsm_acc_finetune_blur.append(100 * float(correct) / total)\n",
    "    \n",
    "    model = torch.load('save_dis.pkl')\n",
    "    model.eval()\n",
    "    loss_function = nn.CrossEntropyLoss()\n",
    "    correct = 0\n",
    "    total = 0\n",
    "    for images, labels in testloader:\n",
    "        images = torch.reshape(images, [-1, 1,28,28])\n",
    "        images = fgsm_attack(model, loss_function, images, labels, eps[i]).to(device)\n",
    "        labels = labels.to(device)\n",
    "        outputs = model(images)\n",
    "\n",
    "        _, pre = torch.max(outputs.data, 1)\n",
    "\n",
    "        total += labels.shape[0]\n",
    "        correct += (pre == labels).sum()\n",
    "    \n",
    "    #     imshow(torchvision.utils.make_grid(images.cpu().data, normalize=True), [normal_data.classes[i] for i in pre])\n",
    "    \n",
    "    print('Accuracy of test text: %f %%' % (100 * float(correct) / total))\n",
    "    fgsm_acc_dis.append(100 * float(correct) / total)"
   ]
  },
  {
   "cell_type": "code",
   "execution_count": 39,
   "metadata": {},
   "outputs": [
    {
     "data": {
      "image/png": "[encoded data removed]",
      "text/plain": [
       "<Figure size 432x288 with 1 Axes>"
      ]
     },
     "metadata": {
      "needs_background": "light"
     },
     "output_type": "display_data"
    }
   ],
   "source": [
    "plt.errorbar(eps, fgsm_acc_control, label='Control')\n",
    "plt.plot(eps, fgsm_acc_sleep, label='Sleep')\n",
    "plt.plot(eps, fgsm_acc_finetune_noise, label='Finetune-noise')\n",
    "plt.plot(eps, fgsm_acc_finetune_blur, label='Finetune-blur')\n",
    "plt.plot(eps, fgsm_acc_dis, label='Dif.Dist')\n",
    "plt.legend()\n",
    "plt.show()"
   ]
  }
 ],
 "metadata": {
  "kernelspec": {
   "display_name": "Python 3",
   "language": "python",
   "name": "python3"
  },
  "language_info": {
   "codemirror_mode": {
    "name": "ipython",
    "version": 3
   },
   "file_extension": ".py",
   "mimetype": "text/x-python",
   "name": "python",
   "nbconvert_exporter": "python",
   "pygments_lexer": "ipython3",
   "version": "3.7.3"
  }
 },
 "nbformat": 4,
 "nbformat_minor": 2
}
