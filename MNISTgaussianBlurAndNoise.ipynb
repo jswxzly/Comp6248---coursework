{
 "cells": [
  {
   "cell_type": "code",
   "execution_count": 0,
   "metadata": {
    "colab": {},
    "colab_type": "code",
    "id": "3PgeXMMdhPRp"
   },
   "outputs": [],
   "source": [
    "# Download MNIST dataset\n",
    "from torchvision.datasets import MNIST\n",
    "\n",
    "# load (download if needed) the MNIST dataset\n",
    "mnist_train = MNIST(\".\", train=True, download=True)"
   ]
  },
  {
   "cell_type": "code",
   "execution_count": 59,
   "metadata": {
    "colab": {
     "base_uri": "https://localhost:8080/",
     "height": 547
    },
    "colab_type": "code",
    "id": "wMSjkgqyhYKq",
    "outputId": "68eb61a6-3010-4fbc-e90c-e021c5015f85"
   },
   "outputs": [
    {
     "name": "stderr",
     "output_type": "stream",
     "text": [
      "/usr/local/lib/python3.6/dist-packages/torchvision/datasets/mnist.py:55: UserWarning: train_data has been renamed data\n",
      "  warnings.warn(\"train_data has been renamed data\")\n"
     ]
    },
    {
     "data": {
      "image/png": "[encoded data removed]",
      "text/plain": [
       "<Figure size 432x288 with 1 Axes>"
      ]
     },
     "metadata": {
      "tags": []
     },
     "output_type": "display_data"
    },
    {
     "data": {
      "image/png": "[encoded data removed]",
      "text/plain": [
       "<Figure size 432x288 with 1 Axes>"
      ]
     },
     "metadata": {
      "tags": []
     },
     "output_type": "display_data"
    }
   ],
   "source": [
    "import numpy as np\n",
    "from matplotlib import pyplot as plt\n",
    "from scipy.ndimage import gaussian_filter\n",
    "\n",
    "# GAUSSIAN BLUR DISTORTION\n",
    "\n",
    "# gaussian blur first MNIST image from the training data\n",
    "# adjust blur by adjusting value of sigma\n",
    "# paper values for sigma were 0, 0.5, 1.0, 1.5, 2.0, 2.5\n",
    "imgBlur = gaussian_filter(mnist_train.train_data[0].numpy(), sigma=2.5)\n",
    "\n",
    "# show gaussian blurred MNIST image\n",
    "plt.imshow(imgBlur, cmap=plt.get_cmap('gray'))\n",
    "plt.show()\n",
    "\n",
    "# GAUSSIAN NOISE DISTORTION\n",
    "\n",
    "# add guassian noise to first MNIST image from training data \n",
    "# adjust the level of noise by adjusting variance parameter\n",
    "# paper values for variance were 0, 0.1, 0.3, 0.5, 0.7, 0.9\n",
    "variance = 0.9\n",
    "imgNoise = mnist_train.train_data[0].numpy() + variance * mnist_train.train_data[0].numpy().std() * np.random.random(mnist_train.train_data[0].numpy().shape)\n",
    "\n",
    "# show gaussian noise MNIST image\n",
    "plt.imshow(imgNoise, cmap=plt.get_cmap('gray'))\n",
    "plt.show()"
   ]
  }
 ],
 "metadata": {
  "colab": {
   "collapsed_sections": [],
   "name": "MNISTgaussianBlurAndNoise.ipynb",
   "provenance": []
  },
  "kernelspec": {
   "display_name": "Python 3",
   "name": "python3"
  }
 },
 "nbformat": 4,
 "nbformat_minor": 0
}
