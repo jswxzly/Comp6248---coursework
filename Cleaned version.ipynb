{
 "cells": [
  {
   "cell_type": "code",
   "execution_count": 1,
   "metadata": {},
   "outputs": [],
   "source": [
    "import torch\n",
    "import torchbearer\n",
    "import torch.nn.functional as F\n",
    "import torchvision.transforms as transforms\n",
    "from torch import nn\n",
    "from torch import optim\n",
    "from torch.utils.data import DataLoader\n",
    "from torchvision.datasets import MNIST\n",
    "import numpy as np\n",
    "import pickle\n",
    "from torchbearer.callbacks import LiveLossPlot\n",
    "from itertools import product\n",
    "import gc\n",
    "from scipy.ndimage import gaussian_filter\n",
    "import numpy as np\n",
    "from matplotlib import pyplot as plt\n",
    "import random\n",
    "import torch.nn.functional as F\n",
    "from torch import nn\n",
    "import sys"
   ]
  },
  {
   "cell_type": "code",
   "execution_count": 2,
   "metadata": {},
   "outputs": [],
   "source": [
    "# fix random seed for reproducibility\n",
    "seed = 7\n",
    "torch.manual_seed(seed)\n",
    "torch.backends.cudnn.deterministic = True\n",
    "torch.backends.cudnn.benchmark = False\n",
    "np.random.seed(seed)\n",
    "device = \"cuda:0\" if torch.cuda.is_available() else \"cpu\""
   ]
  },
  {
   "cell_type": "code",
   "execution_count": 3,
   "metadata": {},
   "outputs": [],
   "source": [
    "# # flatten 28*28 images to a 784 vector for each image\n",
    "# transform = transforms.Compose([\n",
    "#     transforms.ToTensor(),  # convert to tensor\n",
    "# ])\n",
    "# flatten 28*28 images to a 784 vector for each image\n",
    "transform = transforms.Compose([\n",
    "    transforms.ToTensor(),  # convert to tensor\n",
    "    transforms.Lambda(lambda x: x.view(-1))  # flatten into vector\n",
    "])"
   ]
  },
  {
   "cell_type": "code",
   "execution_count": 4,
   "metadata": {},
   "outputs": [],
   "source": [
    "trainset = MNIST(\".\", train=True, download=True, transform=transform)\n",
    "testset = MNIST(\".\", train=False, download=True, transform=transform)\n",
    "#split the data\n",
    "trainset.data = trainset.data[0:27105]\n",
    "trainset.targets = trainset.targets[0:27105]\n",
    "# # print(trainset.targets[0:11905])\n",
    "#for distillation\n",
    "trainloaderforDistillation = DataLoader(trainset, batch_size=1000, shuffle=True)"
   ]
  },
  {
   "cell_type": "code",
   "execution_count": 5,
   "metadata": {},
   "outputs": [],
   "source": [
    " # define baseline model\n",
    "class BaselineModel(nn.Module):\n",
    "    def __init__(self, input_size, hidden_size, num_classes):\n",
    "        super(BaselineModel, self).__init__()\n",
    "        self.fc1 = nn.Linear(input_size, hidden_size) \n",
    "        self.fc2 = nn.Linear(hidden_size, hidden_size) \n",
    "        self.fc3 = nn.Linear(hidden_size, num_classes)  \n",
    "    \n",
    "    def forward(self, x):\n",
    "        out = self.fc1(x)\n",
    "        out = F.relu(out)\n",
    "        out = F.dropout(out, 0.2)        \n",
    "        out = self.fc2(out)        \n",
    "        out = F.relu(out)\n",
    "        out = self.fc3(out)\n",
    "        if not self.training:\n",
    "            out = F.softmax(out, dim=1)\n",
    "        return out\n",
    "# Define the ANN for fine-tuning network\n",
    "class NetworkControl(nn.Module):\n",
    "    def __init__(self, input_size, hidden_size, num_classes):\n",
    "        super(NetworkControl, self).__init__()\n",
    "        self.fc1 = nn.Linear(input_size, hidden_size) \n",
    "        self.fc2 = nn.Linear(hidden_size, hidden_size) \n",
    "        self.fc3 = nn.Linear(hidden_size, num_classes)  \n",
    "    \n",
    "    def forward(self, x):\n",
    "        out = self.fc1(x)\n",
    "        out = F.relu(out)\n",
    "        out = F.dropout(out, 0.2)        \n",
    "        out = self.fc2(out)        \n",
    "        out = F.relu(out)\n",
    "        out = F.dropout(out, 0.2)        \n",
    "        out = self.fc3(out)\n",
    "        if not self.training:\n",
    "            out = F.softmax(out, dim=1)\n",
    "        return out\n",
    "    \n",
    "    \n",
    "class BetterCNNforDistillation(nn.Module):\n",
    "    def __init__(self):\n",
    "        super(BetterCNNforDistillation, self).__init__()\n",
    "        self.conv1 = nn.Conv2d(1, 32, (5, 5), padding=0)\n",
    "        self.conv2 = nn.Conv2d(32, 64, (3, 3), padding=0)\n",
    "        self.fc1 = nn.Linear(64 * 5**2, 1024)\n",
    "        self.fc2 = nn.Linear(1024, 50)\n",
    "        self.fc3 = nn.Linear(50, 10)\n",
    "\n",
    "            \n",
    "    def forward(self, x):\n",
    "        out = self.conv1(x)\n",
    "        out = F.relu(out)\n",
    "        out = F.max_pool2d(out, (2,2))\n",
    "        out = self.conv2(out)\n",
    "        out = F.relu(out)\n",
    "        out = F.max_pool2d(out, (2,2))\n",
    "        out = F.dropout(out, 0.2)\n",
    "        out = out.view(out.shape[0], -1)\n",
    "        out = self.fc1(out)\n",
    "        out = F.relu(out)\n",
    "        out = self.fc2(out)\n",
    "        out = F.relu(out)\n",
    "        out = self.fc3(out)\n",
    "        if not self.training:\n",
    "            out = F.softmax(out, dim=1)\n",
    "        return out"
   ]
  },
  {
   "cell_type": "code",
   "execution_count": 11,
   "metadata": {},
   "outputs": [
    {
     "name": "stdout",
     "output_type": "stream",
     "text": [
      "Epoch 0, loss 63.22\n",
      "Epoch 1, loss 51.12\n",
      "**** Finished Training ****\n"
     ]
    }
   ],
   "source": [
    "#train distillion network\n",
    "\n",
    "modelDistillation = BetterCNNforDistillation().to(device)\n",
    "loss_function = nn.CrossEntropyLoss()\n",
    "# optimiser = optim.Adam(model.parameters())\n",
    "optimiser = optim.SGD(modelDistillation.parameters(), lr=0.1, momentum=0.5)\n",
    "running_loss = 0.0\n",
    "\n",
    "#teacher network\n",
    "for epoch in range(2):\n",
    "    running_loss = 0.0\n",
    "    for data in trainloaderforDistillation:\n",
    "        # get the inputs\n",
    "        inputs, labels = data\n",
    "        inputs = torch.reshape(inputs, [-1, 1,28,28])\n",
    "        inputs = inputs.to(device)\n",
    "        labels = labels.to(device)\n",
    "        # zero the parameter gradients\n",
    "        optimiser.zero_grad()\n",
    "\n",
    "        # forward + loss + backward + optimise (update weights)\n",
    "        outputs = modelDistillation(inputs)\n",
    "        loss = loss_function(outputs, labels)\n",
    "        loss.backward()\n",
    "        optimiser.step()\n",
    "        \n",
    "        #update the label for modelDistillation\n",
    "        if epoch == 1:       \n",
    "            predictions = torch.argmax(outputs, 1)\n",
    "            labels = predictions\n",
    "            \n",
    "        \n",
    "        # keep track of the loss this epoch\n",
    "        running_loss += loss.item()\n",
    "    print(\"Epoch %d, loss %4.2f\" % (epoch, running_loss))\n",
    "    pickle.dump(modelDistillation, open('teacher.p', 'wb'))\n",
    "print('**** Finished Training ****')\n",
    "\n"
   ]
  },
  {
   "cell_type": "code",
   "execution_count": 12,
   "metadata": {},
   "outputs": [
    {
     "name": "stdout",
     "output_type": "stream",
     "text": [
      "Epoch 0, loss 20.71\n",
      "Epoch 1, loss 8.78\n",
      "**** Finished Training ****\n"
     ]
    }
   ],
   "source": [
    "#student network\n",
    "for epoch in range(2):\n",
    "    running_loss = 0.0\n",
    "    for data in trainloaderforDistillation:\n",
    "        # get the inputs\n",
    "        inputs, labels = data\n",
    "        inputs = torch.reshape(inputs, [-1, 1,28,28])\n",
    "        inputs = inputs.to(device)\n",
    "        labels = labels.to(device)\n",
    "        # zero the parameter gradients\n",
    "        optimiser.zero_grad()\n",
    "\n",
    "        # forward + loss + backward + optimise (update weights)\n",
    "        outputs = modelDistillation(inputs)\n",
    "        loss = loss_function(outputs, labels)\n",
    "        loss.backward()\n",
    "        optimiser.step() \n",
    "        \n",
    "        # keep track of the loss this epoch\n",
    "        running_loss += loss.item()\n",
    "    print(\"Epoch %d, loss %4.2f\" % (epoch, running_loss))\n",
    "    pickle.dump(modelDistillation, open('student.p', 'wb'))\n",
    "print('**** Finished Training ****')"
   ]
  },
  {
   "cell_type": "code",
   "execution_count": 13,
   "metadata": {},
   "outputs": [
    {
     "name": "stdout",
     "output_type": "stream",
     "text": [
      "Test Accuracy: 90.70 %\n"
     ]
    },
    {
     "name": "stderr",
     "output_type": "stream",
     "text": [
      "d:\\Anaconda3\\lib\\site-packages\\torch\\serialization.py:360: UserWarning: Couldn't retrieve source code for container of type BetterCNNforDistillation. It won't be checked for correctness upon loading.\n",
      "  \"type \" + obj.__name__ + \". It won't be checked \"\n"
     ]
    }
   ],
   "source": [
    "modelDistillation.eval()\n",
    "\n",
    "# Compute the model accuracy on the test set\n",
    "correct = 0\n",
    "total = 0\n",
    "\n",
    "for data in testloader:\n",
    "    inputs, labels = data\n",
    "    inputs = torch.reshape(inputs, [-1, 1,28,28])\n",
    "    inputs = inputs.to(device)\n",
    "    labels = labels.to(device)\n",
    "    outputs = modelDistillation(inputs)\n",
    "    predictions = torch.argmax(outputs, 1)\n",
    "    correct += (predictions == labels).sum().float()\n",
    "    total += len(labels)\n",
    "print('Test Accuracy: %2.2f %%' % ((100.0 * correct) / total))\n",
    "torch.save(modelDistillation,'save_dis.pkl')"
   ]
  },
  {
   "cell_type": "code",
   "execution_count": 6,
   "metadata": {},
   "outputs": [],
   "source": [
    "# initalize data for sleeping network \n",
    "trainset = MNIST(\".\", train=True, download=True, transform=transform)\n",
    "testset = MNIST(\".\", train=False, download=True, transform=transform)\n",
    "#split the data\n",
    "trainset.data = trainset.data[0:27105]\n",
    "trainset.targets = trainset.targets[0:27105]\n",
    "# # print(trainset.targets[0:11905])\n",
    "trainloader = DataLoader(trainset, batch_size=128, shuffle=True)\n",
    "testloader = DataLoader(testset, batch_size=128, shuffle=True)"
   ]
  },
  {
   "cell_type": "code",
   "execution_count": 7,
   "metadata": {},
   "outputs": [
    {
     "data": {
      "application/vnd.jupyter.widget-view+json": {
       "model_id": "d8b6fdacd5dd41eab5328199d418bf54",
       "version_major": 2,
       "version_minor": 0
      },
      "text/plain": [
       "HBox(children=(FloatProgress(value=0.0, description='0/1(e)', max=79.0, style=ProgressStyle(description_width=…"
      ]
     },
     "metadata": {},
     "output_type": "display_data"
    },
    {
     "name": "stdout",
     "output_type": "stream",
     "text": [
      "\n",
      "{'test_loss': 1.5614686012268066, 'test_acc': 0.9386000037193298}\n"
     ]
    }
   ],
   "source": [
    "model = torch.load('save.pkl')\n",
    "loss_function = nn.CrossEntropyLoss()\n",
    "# live_loss_plot = LiveLossPlot()\n",
    "optimiser = optim.SGD(model.parameters(), lr=0.1, momentum=0.5)\n",
    "# trial = torchbearer.Trial(model, optimiser, loss_function, callbacks=[live_loss_plot], metrics=['loss', 'accuracy']).to(device)\n",
    "trial = torchbearer.Trial(model, optimiser, loss_function,metrics=['loss', 'accuracy']).to(device)\n",
    "trial.with_generators(trainloader, test_generator=testloader)\n",
    "results = trial.evaluate(data_key=torchbearer.TEST_DATA)\n",
    "print(results)"
   ]
  },
  {
   "cell_type": "code",
   "execution_count": 8,
   "metadata": {},
   "outputs": [],
   "source": [
    "def sleep(model, inputs, scales):\n",
    "    changenum = 0\n",
    "    #The parameters like alpha,beta,etc,you can change to find better performance\n",
    "    num_features = inputs.shape[0]\n",
    "    Ts = inputs.shape[1]\n",
    "    dt = 0.01\n",
    "    InputRate = 40\n",
    "    sleepDur = inputs.shape[1]\n",
    "    dec = 0.03\n",
    "    sleep_inc = 0.0065\n",
    "    sleep_dec = 0.0069 \n",
    "    sleep_beta = [15.579, 0.35, 16.52]  \n",
    "#     25.516308 0.344342 13.197703\n",
    "    previous_factor = 1\n",
    "    alpha = 0.98 \n",
    "    updateswitch = 0\n",
    "    \n",
    "    norm_constants = torch.zeros(3,1).cuda(device)\n",
    "    \n",
    "    #initalize spiking network\n",
    "    InputLayer_spikes = torch.zeros(784,1).cuda(device)\n",
    "    InputLayer_mem = torch.zeros(784,1).cuda(device)\n",
    "    InputLayer_refrac_end = torch.zeros(784,1).cuda(device)\n",
    "    InputLayer_sum_spikes = torch.zeros(784,1).cuda(device)\n",
    "    InputLayer_total_spikes = torch.zeros(sleepDur,784).cuda(device)\n",
    "    \n",
    "    fc1_spikes = torch.zeros(1200,1).cuda(device)\n",
    "    fc1_mem = torch.zeros(1200,1).cuda(device)\n",
    "    fc1_refrac_end = torch.zeros(1200,1).cuda(device)\n",
    "    fc1_sum_spikes = torch.zeros(1200,1).cuda(device)\n",
    "    fc1_total_spikes = torch.zeros(sleepDur,1200).cuda(device)\n",
    "    \n",
    "    fc2_spikes = torch.zeros(1200,1).cuda(device)\n",
    "    fc2_mem = torch.zeros(1200,1).cuda(device)\n",
    "    fc2_refrac_end = torch.zeros(1200,1).cuda(device)\n",
    "    fc2_sum_spikes = torch.zeros(1200,1).cuda(device)\n",
    "    fc2_total_spikes = torch.zeros(sleepDur,1200).cuda(device)\n",
    "\n",
    "    fc3_spikes = torch.zeros(10,1).cuda(device)\n",
    "    fc3_mem = torch.zeros(10,1).cuda(device)\n",
    "    fc3r_refrac_end = torch.zeros(10,1).cuda(device)\n",
    "    fc3_sum_spikes = torch.zeros(10,1).cuda(device)\n",
    "    fc3_total_spikes = torch.zeros(sleepDur,10).cuda(device)\n",
    "    \n",
    "    ListSpikes = [InputLayer_spikes, fc1_spikes, fc2_spikes, fc3_spikes]\n",
    "    ListMem = [InputLayer_mem, fc1_mem, fc2_mem, fc3_mem]\n",
    "    ListRefrac_end= [InputLayer_refrac_end, fc1_refrac_end, fc2_refrac_end, fc3r_refrac_end]\n",
    "    ListSum_spikes = [InputLayer_sum_spikes, fc1_sum_spikes, fc2_sum_spikes, fc3_sum_spikes]\n",
    "    ListTotal_spikes = [InputLayer_total_spikes, fc1_total_spikes, fc2_total_spikes, fc3_total_spikes]\n",
    "    weight = [torch.t(torch.t(model.fc1.weight)), torch.t(torch.t(model.fc2.weight)), torch.t(torch.t(model.fc3.weight))]\n",
    "#     threshold = [0.03618, 0.02336, 0.03638]  \n",
    "    \n",
    "    \n",
    "    \n",
    "    #get normalization norm_constants\n",
    "    for i in range(3):\n",
    "        weight_max = torch.max(weight[i]);\n",
    "        if   weight_max<0:\n",
    "            weight_max = 0\n",
    "        applied_factor = weight_max / previous_factor\n",
    "        norm_constants[i] = 1 / applied_factor\n",
    "        previous_factor = applied_factor\n",
    "            \n",
    "    sleep_alpha = norm_constants*alpha\n",
    "    inp_image = torch.zeros(num_features,1).cuda(device) \n",
    "    \n",
    "    \n",
    "    for i in range(Ts):\n",
    "#          Create poisson distributed spikes from the input images\n",
    "        spike_snapshot = torch.rand(num_features,1) * (1/(dt*InputRate))/2\n",
    "        for idx in range(num_features):\n",
    "            if spike_snapshot[idx] <= inputs[idx,i]:\n",
    "                inp_image[idx] = 1\n",
    "\n",
    "\n",
    "        ListSpikes[0] = inp_image\n",
    "        ListSum_spikes[0] = ListSum_spikes[0]  + inp_image\n",
    "        ListTotal_spikes[0][i,:] = torch.t(ListSpikes[0])  \n",
    "\n",
    "        for i in range(1,4):\n",
    "\n",
    "#             Get input impulse from incoming spike(lose some parameters)\n",
    "            impulse = sleep_alpha[i-1] * torch.t(ListSpikes[i-1]) @ torch.t(weight[i-1])\n",
    "#             Add input to membrane potential\n",
    "\n",
    "            decMem = dec * ListMem[i]\n",
    "            decMem =decMem.cuda(device)\n",
    "            ListMem[i] = decMem + torch.t(impulse)\n",
    "            if i == 3:\n",
    "                ListMem[i] = ListMem[i]\n",
    "\n",
    "\n",
    "            if(i == 1):\n",
    "                print(\"the max of first layer\", torch.max(ListMem[i]))\n",
    "            if(i == 2):\n",
    "                print(\"the max of second layer\", torch.max(ListMem[i]))\n",
    "            if(i == 3):\n",
    "                print(\"the max of third layer\", torch.max(ListMem[i]))\n",
    "\n",
    "#           Check for spiking     \n",
    "            for j in range (ListMem[i].shape[0]):\n",
    "                if ListMem[i][j] >= sleep_beta[i-1]:\n",
    "                    ListSpikes[i][j] = 1\n",
    "                else:\n",
    "                    ListSpikes[i][j] = 0\n",
    "\n",
    "            post_1 = []  \n",
    "            pre_1 = []\n",
    "            pre_0 = []\n",
    "#           STDP\n",
    "            for j in range(ListSpikes[i].shape[0]):\n",
    "                if ListSpikes[i][j] == 1:\n",
    "                    print(j)\n",
    "                    post_1.append(j)                  \n",
    "            for j in range(ListSpikes[i-1].shape[0]):\n",
    "                if ListSpikes[i-1][j] == 1:\n",
    "                    pre_1.append(j)                \n",
    "                else:\n",
    "                    pre_0.append(j)\n",
    "\n",
    "#             print(\"1\",len(post_1))\n",
    "#             print(\"2\",len(pre_1))\n",
    "#             print(list(product(post_1,pre_1)))\n",
    "#             print(len(pre_0))\n",
    "\n",
    "            for idex in list(product(post_1,pre_1)):\n",
    "                updateswitch = 1                         \n",
    "                weight[i-1][idex] = weight[i-1][idex]  - sleep_dec * torch.sigmoid(weight[i-1][idex] )\n",
    "            for idex in list(product(post_1,pre_0)):\n",
    "                updateswitch = 1                                        \n",
    "                weight[i-1][idex] = weight[i-1][idex]  + sleep_inc * torch.sigmoid(weight[i-1][idex] )\n",
    "\n",
    "            print(\"The status of switch is \",updateswitch)\n",
    "            if updateswitch == 1:\n",
    "                if i == 1:\n",
    "                    changenum +=1\n",
    "                    fc1_new_weight=torch.nn.Parameter(weight[0])\n",
    "                    model.fc1.weight = fc1_new_weight\n",
    "                if i == 2:\n",
    "                    changenum +=1\n",
    "                    fc2_new_weight=torch.nn.Parameter(weight[1])\n",
    "                    model.fc2.weight = fc2_new_weight\n",
    "                if i == 3:\n",
    "                    changenum +=1\n",
    "                    fc3_new_weight=torch.nn.Parameter(weight[2])\n",
    "                    model.fc3.weight = fc3_new_weight\n",
    "\n",
    "            updateswitch = 0  #reset switch                  \n",
    "\n",
    "            #reset\n",
    "            for j in range(ListSpikes[i].shape[0]):\n",
    "                if ListSpikes[i][j] == 1:\n",
    "                    ListMem[i][j] = 0\n",
    "            \n",
    "            #To save the memory space, we just see what happened after the weight changed 10times( here means total 6 layers' wight changed)\n",
    "            if changenum >= 20:\n",
    "                print(\"changenum is \",changenum)\n",
    "                sys.exit(0)"
   ]
  },
  {
   "cell_type": "code",
   "execution_count": 9,
   "metadata": {
    "scrolled": true
   },
   "outputs": [
    {
     "name": "stdout",
     "output_type": "stream",
     "text": [
      "the max of first layer tensor(9.6672, device='cuda:0', grad_fn=<MaxBackward1>)\n",
      "The status of switch is  0\n",
      "the max of second layer tensor(0., device='cuda:0', grad_fn=<MaxBackward1>)\n",
      "The status of switch is  0\n",
      "the max of third layer tensor(0., device='cuda:0', grad_fn=<MaxBackward1>)\n",
      "The status of switch is  0\n",
      "the max of first layer tensor(10.4563, device='cuda:0', grad_fn=<MaxBackward1>)\n",
      "The status of switch is  0\n",
      "the max of second layer tensor(0., device='cuda:0', grad_fn=<MaxBackward1>)\n",
      "The status of switch is  0\n",
      "the max of third layer tensor(0., device='cuda:0', grad_fn=<MaxBackward1>)\n",
      "The status of switch is  0\n",
      "the max of first layer tensor(16.2044, device='cuda:0', grad_fn=<MaxBackward1>)\n",
      "The status of switch is  1\n",
      "the max of second layer tensor(0.0549, device='cuda:0', grad_fn=<MaxBackward1>)\n",
      "The status of switch is  0\n",
      "the max of third layer tensor(0., device='cuda:0', grad_fn=<MaxBackward1>)\n",
      "The status of switch is  0\n",
      "the max of first layer tensor(16.0932, device='cuda:0', grad_fn=<MaxBackward1>)\n",
      "The status of switch is  1\n",
      "the max of second layer tensor(0.1398, device='cuda:0', grad_fn=<MaxBackward1>)\n",
      "The status of switch is  0\n",
      "the max of third layer tensor(0., device='cuda:0', grad_fn=<MaxBackward1>)\n",
      "The status of switch is  0\n",
      "the max of first layer tensor(15.6911, device='cuda:0', grad_fn=<MaxBackward1>)\n",
      "The status of switch is  1\n",
      "the max of second layer tensor(0.0513, device='cuda:0', grad_fn=<MaxBackward1>)\n",
      "The status of switch is  0\n",
      "the max of third layer tensor(0., device='cuda:0', grad_fn=<MaxBackward1>)\n",
      "The status of switch is  0\n",
      "the max of first layer tensor(17.2576, device='cuda:0', grad_fn=<MaxBackward1>)\n",
      "The status of switch is  1\n",
      "the max of second layer tensor(0.2755, device='cuda:0', grad_fn=<MaxBackward1>)\n",
      "The status of switch is  0\n",
      "the max of third layer tensor(0., device='cuda:0', grad_fn=<MaxBackward1>)\n",
      "The status of switch is  0\n",
      "the max of first layer tensor(16.8524, device='cuda:0', grad_fn=<MaxBackward1>)\n",
      "The status of switch is  1\n",
      "the max of second layer tensor(0.1372, device='cuda:0', grad_fn=<MaxBackward1>)\n",
      "The status of switch is  0\n",
      "the max of third layer tensor(0., device='cuda:0', grad_fn=<MaxBackward1>)\n",
      "The status of switch is  0\n",
      "the max of first layer tensor(16.7542, device='cuda:0', grad_fn=<MaxBackward1>)\n",
      "The status of switch is  1\n",
      "the max of second layer tensor(0.0893, device='cuda:0', grad_fn=<MaxBackward1>)\n",
      "The status of switch is  0\n",
      "the max of third layer tensor(0., device='cuda:0', grad_fn=<MaxBackward1>)\n",
      "The status of switch is  0\n",
      "the max of first layer tensor(17.5483, device='cuda:0', grad_fn=<MaxBackward1>)\n",
      "The status of switch is  1\n",
      "the max of second layer tensor(0.1757, device='cuda:0', grad_fn=<MaxBackward1>)\n",
      "The status of switch is  0\n",
      "the max of third layer tensor(0., device='cuda:0', grad_fn=<MaxBackward1>)\n",
      "The status of switch is  0\n",
      "the max of first layer tensor(15.5801, device='cuda:0', grad_fn=<MaxBackward1>)\n",
      "The status of switch is  1\n",
      "the max of second layer tensor(0.0636, device='cuda:0', grad_fn=<MaxBackward1>)\n",
      "The status of switch is  0\n",
      "the max of third layer tensor(0., device='cuda:0', grad_fn=<MaxBackward1>)\n",
      "The status of switch is  0\n",
      "the max of first layer tensor(15.9490, device='cuda:0', grad_fn=<MaxBackward1>)\n",
      "The status of switch is  1\n",
      "the max of second layer tensor(0.0938, device='cuda:0', grad_fn=<MaxBackward1>)\n",
      "The status of switch is  0\n",
      "the max of third layer tensor(0., device='cuda:0', grad_fn=<MaxBackward1>)\n",
      "The status of switch is  0\n",
      "the max of first layer tensor(15.6253, device='cuda:0', grad_fn=<MaxBackward1>)\n",
      "The status of switch is  1\n",
      "the max of second layer tensor(0.0529, device='cuda:0', grad_fn=<MaxBackward1>)\n",
      "The status of switch is  0\n",
      "the max of third layer tensor(0., device='cuda:0', grad_fn=<MaxBackward1>)\n",
      "The status of switch is  0\n",
      "the max of first layer tensor(17.5892, device='cuda:0', grad_fn=<MaxBackward1>)\n",
      "The status of switch is  1\n",
      "the max of second layer tensor(0.1271, device='cuda:0', grad_fn=<MaxBackward1>)\n",
      "The status of switch is  0\n",
      "the max of third layer tensor(0., device='cuda:0', grad_fn=<MaxBackward1>)\n",
      "The status of switch is  0\n",
      "the max of first layer tensor(15.2082, device='cuda:0', grad_fn=<MaxBackward1>)\n",
      "The status of switch is  0\n",
      "the max of second layer tensor(0.0038, device='cuda:0', grad_fn=<MaxBackward1>)\n",
      "The status of switch is  0\n",
      "the max of third layer tensor(0., device='cuda:0', grad_fn=<MaxBackward1>)\n",
      "The status of switch is  0\n",
      "the max of first layer tensor(15.2096, device='cuda:0', grad_fn=<MaxBackward1>)\n",
      "The status of switch is  0\n",
      "the max of second layer tensor(0.0001, device='cuda:0', grad_fn=<MaxBackward1>)\n",
      "The status of switch is  0\n",
      "the max of third layer tensor(0., device='cuda:0', grad_fn=<MaxBackward1>)\n",
      "The status of switch is  0\n",
      "the max of first layer tensor(15.5083, device='cuda:0', grad_fn=<MaxBackward1>)\n",
      "The status of switch is  0\n",
      "the max of second layer tensor(3.4315e-06, device='cuda:0', grad_fn=<MaxBackward1>)\n",
      "The status of switch is  0\n",
      "the max of third layer tensor(0., device='cuda:0', grad_fn=<MaxBackward1>)\n",
      "The status of switch is  0\n",
      "the max of first layer tensor(16.3718, device='cuda:0', grad_fn=<MaxBackward1>)\n",
      "The status of switch is  1\n",
      "the max of second layer tensor(0.1047, device='cuda:0', grad_fn=<MaxBackward1>)\n",
      "The status of switch is  0\n",
      "the max of third layer tensor(0., device='cuda:0', grad_fn=<MaxBackward1>)\n",
      "The status of switch is  0\n",
      "the max of first layer tensor(16.6006, device='cuda:0', grad_fn=<MaxBackward1>)\n",
      "The status of switch is  1\n",
      "the max of second layer tensor(0.1774, device='cuda:0', grad_fn=<MaxBackward1>)\n",
      "The status of switch is  0\n",
      "the max of third layer tensor(0., device='cuda:0', grad_fn=<MaxBackward1>)\n",
      "The status of switch is  0\n",
      "the max of first layer tensor(16.5594, device='cuda:0', grad_fn=<MaxBackward1>)\n",
      "The status of switch is  1\n",
      "the max of second layer tensor(0.1265, device='cuda:0', grad_fn=<MaxBackward1>)\n",
      "The status of switch is  0\n",
      "the max of third layer tensor(0., device='cuda:0', grad_fn=<MaxBackward1>)\n",
      "The status of switch is  0\n",
      "the max of first layer tensor(15.5052, device='cuda:0', grad_fn=<MaxBackward1>)\n",
      "The status of switch is  0\n",
      "the max of second layer tensor(0.0038, device='cuda:0', grad_fn=<MaxBackward1>)\n",
      "The status of switch is  0\n",
      "the max of third layer tensor(0., device='cuda:0', grad_fn=<MaxBackward1>)\n",
      "The status of switch is  0\n",
      "the max of first layer tensor(15.5058, device='cuda:0', grad_fn=<MaxBackward1>)\n",
      "The status of switch is  0\n",
      "the max of second layer tensor(0.0001, device='cuda:0', grad_fn=<MaxBackward1>)\n",
      "The status of switch is  0\n",
      "the max of third layer tensor(0., device='cuda:0', grad_fn=<MaxBackward1>)\n",
      "The status of switch is  0\n",
      "the max of first layer tensor(15.9249, device='cuda:0', grad_fn=<MaxBackward1>)\n",
      "The status of switch is  1\n",
      "the max of second layer tensor(0.0879, device='cuda:0', grad_fn=<MaxBackward1>)\n",
      "The status of switch is  0\n",
      "the max of third layer tensor(0., device='cuda:0', grad_fn=<MaxBackward1>)\n",
      "The status of switch is  0\n",
      "the max of first layer tensor(15.5204, device='cuda:0', grad_fn=<MaxBackward1>)\n",
      "The status of switch is  0\n",
      "the max of second layer tensor(0.0026, device='cuda:0', grad_fn=<MaxBackward1>)\n",
      "The status of switch is  0\n",
      "the max of third layer tensor(0., device='cuda:0', grad_fn=<MaxBackward1>)\n",
      "The status of switch is  0\n",
      "the max of first layer tensor(15.5220, device='cuda:0', grad_fn=<MaxBackward1>)\n",
      "The status of switch is  0\n",
      "the max of second layer tensor(7.9094e-05, device='cuda:0', grad_fn=<MaxBackward1>)\n",
      "The status of switch is  0\n",
      "the max of third layer tensor(0., device='cuda:0', grad_fn=<MaxBackward1>)\n",
      "The status of switch is  0\n",
      "the max of first layer tensor(15.5221, device='cuda:0', grad_fn=<MaxBackward1>)\n",
      "The status of switch is  0\n",
      "the max of second layer tensor(2.3728e-06, device='cuda:0', grad_fn=<MaxBackward1>)\n",
      "The status of switch is  0\n",
      "the max of third layer tensor(0., device='cuda:0', grad_fn=<MaxBackward1>)\n",
      "The status of switch is  0\n",
      "the max of first layer tensor(16.0936, device='cuda:0', grad_fn=<MaxBackward1>)\n",
      "The status of switch is  1\n",
      "the max of second layer tensor(0.1515, device='cuda:0', grad_fn=<MaxBackward1>)\n",
      "The status of switch is  0\n",
      "the max of third layer tensor(0., device='cuda:0', grad_fn=<MaxBackward1>)\n",
      "The status of switch is  0\n",
      "the max of first layer tensor(15.0502, device='cuda:0', grad_fn=<MaxBackward1>)\n",
      "The status of switch is  0\n",
      "the max of second layer tensor(0.0045, device='cuda:0', grad_fn=<MaxBackward1>)\n",
      "The status of switch is  0\n",
      "the max of third layer tensor(0., device='cuda:0', grad_fn=<MaxBackward1>)\n",
      "The status of switch is  0\n",
      "the max of first layer tensor(17.4250, device='cuda:0', grad_fn=<MaxBackward1>)\n",
      "The status of switch is  1\n",
      "the max of second layer tensor(0.1554, device='cuda:0', grad_fn=<MaxBackward1>)\n",
      "The status of switch is  0\n",
      "the max of third layer tensor(0., device='cuda:0', grad_fn=<MaxBackward1>)\n",
      "The status of switch is  0\n",
      "the max of first layer tensor(17.2448, device='cuda:0', grad_fn=<MaxBackward1>)\n",
      "The status of switch is  1\n",
      "the max of second layer tensor(0.3029, device='cuda:0', grad_fn=<MaxBackward1>)\n",
      "The status of switch is  0\n",
      "the max of third layer tensor(0., device='cuda:0', grad_fn=<MaxBackward1>)\n",
      "The status of switch is  0\n",
      "the max of first layer tensor(15.3570, device='cuda:0', grad_fn=<MaxBackward1>)\n",
      "The status of switch is  0\n",
      "the max of second layer tensor(0.0091, device='cuda:0', grad_fn=<MaxBackward1>)\n",
      "The status of switch is  0\n",
      "the max of third layer tensor(0., device='cuda:0', grad_fn=<MaxBackward1>)\n",
      "The status of switch is  0\n",
      "the max of first layer tensor(15.4678, device='cuda:0', grad_fn=<MaxBackward1>)\n",
      "The status of switch is  0\n",
      "the max of second layer tensor(0.0003, device='cuda:0', grad_fn=<MaxBackward1>)\n",
      "The status of switch is  0\n",
      "the max of third layer tensor(0., device='cuda:0', grad_fn=<MaxBackward1>)\n",
      "The status of switch is  0\n",
      "the max of first layer tensor(15.4744, device='cuda:0', grad_fn=<MaxBackward1>)\n",
      "The status of switch is  0\n",
      "the max of second layer tensor(8.1779e-06, device='cuda:0', grad_fn=<MaxBackward1>)\n",
      "The status of switch is  0\n",
      "the max of third layer tensor(0., device='cuda:0', grad_fn=<MaxBackward1>)\n",
      "The status of switch is  0\n",
      "the max of first layer tensor(15.2468, device='cuda:0', grad_fn=<MaxBackward1>)\n",
      "The status of switch is  0\n",
      "the max of second layer tensor(2.4534e-07, device='cuda:0', grad_fn=<MaxBackward1>)\n",
      "The status of switch is  0\n",
      "the max of third layer tensor(0., device='cuda:0', grad_fn=<MaxBackward1>)\n",
      "The status of switch is  0\n",
      "the max of first layer tensor(15.3307, device='cuda:0', grad_fn=<MaxBackward1>)\n",
      "The status of switch is  0\n",
      "the max of second layer tensor(7.3601e-09, device='cuda:0', grad_fn=<MaxBackward1>)\n",
      "The status of switch is  0\n",
      "the max of third layer tensor(0., device='cuda:0', grad_fn=<MaxBackward1>)\n",
      "The status of switch is  0\n",
      "the max of first layer tensor(15.3412, device='cuda:0', grad_fn=<MaxBackward1>)\n",
      "The status of switch is  0\n",
      "the max of second layer tensor(2.2080e-10, device='cuda:0', grad_fn=<MaxBackward1>)\n",
      "The status of switch is  0\n",
      "the max of third layer tensor(0., device='cuda:0', grad_fn=<MaxBackward1>)\n",
      "The status of switch is  0\n",
      "the max of first layer tensor(15.3415, device='cuda:0', grad_fn=<MaxBackward1>)\n",
      "The status of switch is  0\n",
      "the max of second layer tensor(6.6241e-12, device='cuda:0', grad_fn=<MaxBackward1>)\n",
      "The status of switch is  0\n",
      "the max of third layer tensor(0., device='cuda:0', grad_fn=<MaxBackward1>)\n",
      "The status of switch is  0\n",
      "the max of first layer tensor(15.3415, device='cuda:0', grad_fn=<MaxBackward1>)\n",
      "The status of switch is  0\n",
      "the max of second layer tensor(1.9872e-13, device='cuda:0', grad_fn=<MaxBackward1>)\n",
      "The status of switch is  0\n",
      "the max of third layer tensor(0., device='cuda:0', grad_fn=<MaxBackward1>)\n",
      "The status of switch is  0\n",
      "the max of first layer tensor(15.8901, device='cuda:0', grad_fn=<MaxBackward1>)\n",
      "The status of switch is  1\n",
      "the max of second layer tensor(0.0756, device='cuda:0', grad_fn=<MaxBackward1>)\n",
      "The status of switch is  0\n",
      "the max of third layer tensor(0., device='cuda:0', grad_fn=<MaxBackward1>)\n",
      "The status of switch is  0\n",
      "the max of first layer tensor(15.4467, device='cuda:0', grad_fn=<MaxBackward1>)\n",
      "The status of switch is  0\n",
      "the max of second layer tensor(0.0023, device='cuda:0', grad_fn=<MaxBackward1>)\n",
      "The status of switch is  0\n",
      "the max of third layer tensor(0., device='cuda:0', grad_fn=<MaxBackward1>)\n",
      "The status of switch is  0\n",
      "the max of first layer tensor(15.4432, device='cuda:0', grad_fn=<MaxBackward1>)\n",
      "The status of switch is  0\n",
      "the max of second layer tensor(6.8012e-05, device='cuda:0', grad_fn=<MaxBackward1>)\n",
      "The status of switch is  0\n",
      "the max of third layer tensor(0., device='cuda:0', grad_fn=<MaxBackward1>)\n",
      "The status of switch is  0\n",
      "the max of first layer tensor(15.3022, device='cuda:0', grad_fn=<MaxBackward1>)\n",
      "The status of switch is  0\n",
      "the max of second layer tensor(2.0404e-06, device='cuda:0', grad_fn=<MaxBackward1>)\n",
      "The status of switch is  0\n",
      "the max of third layer tensor(0., device='cuda:0', grad_fn=<MaxBackward1>)\n",
      "The status of switch is  0\n",
      "the max of first layer tensor(15.3093, device='cuda:0', grad_fn=<MaxBackward1>)\n",
      "The status of switch is  0\n",
      "the max of second layer tensor(6.1211e-08, device='cuda:0', grad_fn=<MaxBackward1>)\n",
      "The status of switch is  0\n",
      "the max of third layer tensor(0., device='cuda:0', grad_fn=<MaxBackward1>)\n",
      "The status of switch is  0\n",
      "the max of first layer tensor(15.5600, device='cuda:0', grad_fn=<MaxBackward1>)\n",
      "The status of switch is  0\n",
      "the max of second layer tensor(1.8363e-09, device='cuda:0', grad_fn=<MaxBackward1>)\n",
      "The status of switch is  0\n",
      "the max of third layer tensor(0., device='cuda:0', grad_fn=<MaxBackward1>)\n",
      "The status of switch is  0\n",
      "the max of first layer tensor(15.5676, device='cuda:0', grad_fn=<MaxBackward1>)\n",
      "The status of switch is  0\n",
      "the max of second layer tensor(5.5090e-11, device='cuda:0', grad_fn=<MaxBackward1>)\n",
      "The status of switch is  0\n",
      "the max of third layer tensor(0., device='cuda:0', grad_fn=<MaxBackward1>)\n",
      "The status of switch is  0\n",
      "the max of first layer tensor(15.5678, device='cuda:0', grad_fn=<MaxBackward1>)\n",
      "The status of switch is  0\n",
      "the max of second layer tensor(1.6527e-12, device='cuda:0', grad_fn=<MaxBackward1>)\n",
      "The status of switch is  0\n",
      "the max of third layer tensor(0., device='cuda:0', grad_fn=<MaxBackward1>)\n",
      "The status of switch is  0\n",
      "the max of first layer tensor(15.5678, device='cuda:0', grad_fn=<MaxBackward1>)\n",
      "The status of switch is  0\n",
      "the max of second layer tensor(4.9581e-14, device='cuda:0', grad_fn=<MaxBackward1>)\n",
      "The status of switch is  0\n",
      "the max of third layer tensor(0., device='cuda:0', grad_fn=<MaxBackward1>)\n",
      "The status of switch is  0\n",
      "the max of first layer tensor(15.5442, device='cuda:0', grad_fn=<MaxBackward1>)\n",
      "The status of switch is  0\n",
      "the max of second layer tensor(1.4874e-15, device='cuda:0', grad_fn=<MaxBackward1>)\n",
      "The status of switch is  0\n",
      "the max of third layer tensor(0., device='cuda:0', grad_fn=<MaxBackward1>)\n",
      "The status of switch is  0\n",
      "the max of first layer tensor(15.5640, device='cuda:0', grad_fn=<MaxBackward1>)\n",
      "The status of switch is  0\n",
      "the max of second layer tensor(4.4623e-17, device='cuda:0', grad_fn=<MaxBackward1>)\n",
      "The status of switch is  0\n",
      "the max of third layer tensor(0., device='cuda:0', grad_fn=<MaxBackward1>)\n",
      "The status of switch is  0\n",
      "the max of first layer tensor(15.5646, device='cuda:0', grad_fn=<MaxBackward1>)\n",
      "The status of switch is  0\n",
      "the max of second layer tensor(1.3387e-18, device='cuda:0', grad_fn=<MaxBackward1>)\n",
      "The status of switch is  0\n",
      "the max of third layer tensor(0., device='cuda:0', grad_fn=<MaxBackward1>)\n",
      "The status of switch is  0\n",
      "the max of first layer tensor(15.7611, device='cuda:0', grad_fn=<MaxBackward1>)\n",
      "The status of switch is  1\n",
      "changenum is  20\n"
     ]
    },
    {
     "ename": "SystemExit",
     "evalue": "0",
     "output_type": "error",
     "traceback": [
      "An exception has occurred, use %tb to see the full traceback.\n",
      "\u001b[1;31mSystemExit\u001b[0m\u001b[1;31m:\u001b[0m 0\n"
     ]
    },
    {
     "name": "stderr",
     "output_type": "stream",
     "text": [
      "d:\\Anaconda3\\lib\\site-packages\\IPython\\core\\interactiveshell.py:3333: UserWarning: To exit: use 'exit', 'quit', or Ctrl-D.\n",
      "  warn(\"To exit: use 'exit', 'quit', or Ctrl-D.\", stacklevel=1)\n"
     ]
    }
   ],
   "source": [
    "i = 0\n",
    "for data in trainloader:\n",
    "        # get the inputs\n",
    "    inputs, labels = data\n",
    "    inputs = inputs.cuda(device)\n",
    "    labels = labels.cuda(device)\n",
    "    sleep(model, torch.t(inputs),1)"
   ]
  },
  {
   "cell_type": "code",
   "execution_count": 10,
   "metadata": {},
   "outputs": [
    {
     "data": {
      "application/vnd.jupyter.widget-view+json": {
       "model_id": "1cc1c20eac2f4848b84739205a8d9fbd",
       "version_major": 2,
       "version_minor": 0
      },
      "text/plain": [
       "HBox(children=(FloatProgress(value=0.0, description='0/1(e)', max=79.0, style=ProgressStyle(description_width=…"
      ]
     },
     "metadata": {},
     "output_type": "display_data"
    },
    {
     "name": "stdout",
     "output_type": "stream",
     "text": [
      "\n",
      "{'test_loss': 1.5686533451080322, 'test_acc': 0.9354999661445618}\n"
     ]
    }
   ],
   "source": [
    "loss_function = nn.CrossEntropyLoss()\n",
    "# live_loss_plot = LiveLossPlot()\n",
    "optimiser = optim.SGD(model.parameters(), lr=0.1, momentum=0.5)\n",
    "trial = torchbearer.Trial(model, optimiser, loss_function, metrics=['loss', 'accuracy']).to(device)\n",
    "trial.with_generators(trainloader, test_generator=testloader)\n",
    "results = trial.evaluate(data_key=torchbearer.TEST_DATA)\n",
    "print(results)"
   ]
  },
  {
   "cell_type": "code",
   "execution_count": 11,
   "metadata": {},
   "outputs": [
    {
     "name": "stderr",
     "output_type": "stream",
     "text": [
      "d:\\Anaconda3\\lib\\site-packages\\torch\\serialization.py:360: UserWarning: Couldn't retrieve source code for container of type BaselineModel. It won't be checked for correctness upon loading.\n",
      "  \"type \" + obj.__name__ + \". It won't be checked \"\n"
     ]
    }
   ],
   "source": [
    "torch.save(model,'save2.pkl')\n",
    "# model = torch.load('save2.pkl')"
   ]
  },
  {
   "cell_type": "code",
   "execution_count": 12,
   "metadata": {},
   "outputs": [
    {
     "name": "stderr",
     "output_type": "stream",
     "text": [
      "C:\\Users\\ZLY\\AppData\\Roaming\\Python\\Python37\\site-packages\\torchvision\\datasets\\mnist.py:60: UserWarning: test_data has been renamed data\n",
      "  warnings.warn(\"test_data has been renamed data\")\n"
     ]
    },
    {
     "data": {
      "application/vnd.jupyter.widget-view+json": {
       "model_id": "f092f4c6cfc148938f598d4494fc914f",
       "version_major": 2,
       "version_minor": 0
      },
      "text/plain": [
       "HBox(children=(FloatProgress(value=0.0, description='0/1(e)', max=79.0, style=ProgressStyle(description_width=…"
      ]
     },
     "metadata": {},
     "output_type": "display_data"
    },
    {
     "name": "stdout",
     "output_type": "stream",
     "text": [
      "\n",
      "{'test_loss': 1.561848521232605, 'test_acc': 0.9384999871253967}\n"
     ]
    },
    {
     "data": {
      "application/vnd.jupyter.widget-view+json": {
       "model_id": "54cac2e93bdf45c0be7f84bc8f895455",
       "version_major": 2,
       "version_minor": 0
      },
      "text/plain": [
       "HBox(children=(FloatProgress(value=0.0, description='0/1(e)', max=79.0, style=ProgressStyle(description_width=…"
      ]
     },
     "metadata": {},
     "output_type": "display_data"
    },
    {
     "name": "stdout",
     "output_type": "stream",
     "text": [
      "\n",
      "{'test_loss': 1.5691115856170654, 'test_acc': 0.9352999925613403}\n"
     ]
    },
    {
     "data": {
      "application/vnd.jupyter.widget-view+json": {
       "model_id": "8140cbc951f54041addd306285428ce8",
       "version_major": 2,
       "version_minor": 0
      },
      "text/plain": [
       "HBox(children=(FloatProgress(value=0.0, description='0/1(e)', max=79.0, style=ProgressStyle(description_width=…"
      ]
     },
     "metadata": {},
     "output_type": "display_data"
    },
    {
     "name": "stdout",
     "output_type": "stream",
     "text": [
      "\n",
      "{'test_loss': 1.6021250486373901, 'test_acc': 0.8988999724388123}\n"
     ]
    },
    {
     "data": {
      "application/vnd.jupyter.widget-view+json": {
       "model_id": "f9cfe9fe8df74d0083c9883e9a343feb",
       "version_major": 2,
       "version_minor": 0
      },
      "text/plain": [
       "HBox(children=(FloatProgress(value=0.0, description='0/1(e)', max=79.0, style=ProgressStyle(description_width=…"
      ]
     },
     "metadata": {},
     "output_type": "display_data"
    },
    {
     "name": "stdout",
     "output_type": "stream",
     "text": [
      "\n",
      "{'test_loss': 1.6052275896072388, 'test_acc': 0.8833999633789062}\n",
      "Test Accuracy: 90.76 %\n"
     ]
    },
    {
     "data": {
      "application/vnd.jupyter.widget-view+json": {
       "model_id": "051bf4262a284dfc9ed43e4852dd240d",
       "version_major": 2,
       "version_minor": 0
      },
      "text/plain": [
       "HBox(children=(FloatProgress(value=0.0, description='0/1(e)', max=79.0, style=ProgressStyle(description_width=…"
      ]
     },
     "metadata": {},
     "output_type": "display_data"
    },
    {
     "name": "stdout",
     "output_type": "stream",
     "text": [
      "\n",
      "{'test_loss': 1.5621687173843384, 'test_acc': 0.9378999471664429}\n"
     ]
    },
    {
     "data": {
      "application/vnd.jupyter.widget-view+json": {
       "model_id": "608a85cc17f04b76a70ba7f9c4b536ea",
       "version_major": 2,
       "version_minor": 0
      },
      "text/plain": [
       "HBox(children=(FloatProgress(value=0.0, description='0/1(e)', max=79.0, style=ProgressStyle(description_width=…"
      ]
     },
     "metadata": {},
     "output_type": "display_data"
    },
    {
     "name": "stdout",
     "output_type": "stream",
     "text": [
      "\n",
      "{'test_loss': 1.5694202184677124, 'test_acc': 0.9332000017166138}\n"
     ]
    },
    {
     "data": {
      "application/vnd.jupyter.widget-view+json": {
       "model_id": "577d8d50faad43399612923bece4467a",
       "version_major": 2,
       "version_minor": 0
      },
      "text/plain": [
       "HBox(children=(FloatProgress(value=0.0, description='0/1(e)', max=79.0, style=ProgressStyle(description_width=…"
      ]
     },
     "metadata": {},
     "output_type": "display_data"
    },
    {
     "name": "stdout",
     "output_type": "stream",
     "text": [
      "\n",
      "{'test_loss': 1.6031575202941895, 'test_acc': 0.8999999761581421}\n"
     ]
    },
    {
     "data": {
      "application/vnd.jupyter.widget-view+json": {
       "model_id": "362da9a12eac4bf9a895404f320aed24",
       "version_major": 2,
       "version_minor": 0
      },
      "text/plain": [
       "HBox(children=(FloatProgress(value=0.0, description='0/1(e)', max=79.0, style=ProgressStyle(description_width=…"
      ]
     },
     "metadata": {},
     "output_type": "display_data"
    },
    {
     "name": "stdout",
     "output_type": "stream",
     "text": [
      "\n",
      "{'test_loss': 1.6061040163040161, 'test_acc': 0.8842999935150146}\n",
      "Test Accuracy: 91.15 %\n"
     ]
    },
    {
     "data": {
      "application/vnd.jupyter.widget-view+json": {
       "model_id": "df58b0fd861e4aed8583c77204961b5e",
       "version_major": 2,
       "version_minor": 0
      },
      "text/plain": [
       "HBox(children=(FloatProgress(value=0.0, description='0/1(e)', max=79.0, style=ProgressStyle(description_width=…"
      ]
     },
     "metadata": {},
     "output_type": "display_data"
    },
    {
     "name": "stdout",
     "output_type": "stream",
     "text": [
      "\n",
      "{'test_loss': 1.5661042928695679, 'test_acc': 0.9375999569892883}\n"
     ]
    },
    {
     "data": {
      "application/vnd.jupyter.widget-view+json": {
       "model_id": "396b3bd4793c4d409f346157e81b5eda",
       "version_major": 2,
       "version_minor": 0
      },
      "text/plain": [
       "HBox(children=(FloatProgress(value=0.0, description='0/1(e)', max=79.0, style=ProgressStyle(description_width=…"
      ]
     },
     "metadata": {},
     "output_type": "display_data"
    },
    {
     "name": "stdout",
     "output_type": "stream",
     "text": [
      "\n",
      "{'test_loss': 1.5717778205871582, 'test_acc': 0.934499979019165}\n"
     ]
    },
    {
     "data": {
      "application/vnd.jupyter.widget-view+json": {
       "model_id": "6893423c34974d76b2c56622594eb5a0",
       "version_major": 2,
       "version_minor": 0
      },
      "text/plain": [
       "HBox(children=(FloatProgress(value=0.0, description='0/1(e)', max=79.0, style=ProgressStyle(description_width=…"
      ]
     },
     "metadata": {},
     "output_type": "display_data"
    },
    {
     "name": "stdout",
     "output_type": "stream",
     "text": [
      "\n",
      "{'test_loss': 1.6054826974868774, 'test_acc': 0.8988999724388123}\n"
     ]
    },
    {
     "data": {
      "application/vnd.jupyter.widget-view+json": {
       "model_id": "666ba460ef59468aabb026c9475afbf5",
       "version_major": 2,
       "version_minor": 0
      },
      "text/plain": [
       "HBox(children=(FloatProgress(value=0.0, description='0/1(e)', max=79.0, style=ProgressStyle(description_width=…"
      ]
     },
     "metadata": {},
     "output_type": "display_data"
    },
    {
     "name": "stdout",
     "output_type": "stream",
     "text": [
      "\n",
      "{'test_loss': 1.6100046634674072, 'test_acc': 0.8804000020027161}\n",
      "Test Accuracy: 90.77 %\n"
     ]
    },
    {
     "data": {
      "application/vnd.jupyter.widget-view+json": {
       "model_id": "fe504cd869104fd1b9f3b568f981fefd",
       "version_major": 2,
       "version_minor": 0
      },
      "text/plain": [
       "HBox(children=(FloatProgress(value=0.0, description='0/1(e)', max=79.0, style=ProgressStyle(description_width=…"
      ]
     },
     "metadata": {},
     "output_type": "display_data"
    },
    {
     "name": "stdout",
     "output_type": "stream",
     "text": [
      "\n",
      "{'test_loss': 1.8175864219665527, 'test_acc': 0.8381999731063843}\n"
     ]
    },
    {
     "data": {
      "application/vnd.jupyter.widget-view+json": {
       "model_id": "1d7a7ae9d3a0483e83706cb59a172919",
       "version_major": 2,
       "version_minor": 0
      },
      "text/plain": [
       "HBox(children=(FloatProgress(value=0.0, description='0/1(e)', max=79.0, style=ProgressStyle(description_width=…"
      ]
     },
     "metadata": {},
     "output_type": "display_data"
    },
    {
     "name": "stdout",
     "output_type": "stream",
     "text": [
      "\n",
      "{'test_loss': 1.8208187818527222, 'test_acc': 0.8452999591827393}\n"
     ]
    },
    {
     "data": {
      "application/vnd.jupyter.widget-view+json": {
       "model_id": "70ad0d2ae57f496dbb8a4e4eab2ee000",
       "version_major": 2,
       "version_minor": 0
      },
      "text/plain": [
       "HBox(children=(FloatProgress(value=0.0, description='0/1(e)', max=79.0, style=ProgressStyle(description_width=…"
      ]
     },
     "metadata": {},
     "output_type": "display_data"
    },
    {
     "name": "stdout",
     "output_type": "stream",
     "text": [
      "\n",
      "{'test_loss': 1.8074508905410767, 'test_acc': 0.8075999617576599}\n"
     ]
    },
    {
     "data": {
      "application/vnd.jupyter.widget-view+json": {
       "model_id": "1876d95d709b4410a41c9b7a136a1f85",
       "version_major": 2,
       "version_minor": 0
      },
      "text/plain": [
       "HBox(children=(FloatProgress(value=0.0, description='0/1(e)', max=79.0, style=ProgressStyle(description_width=…"
      ]
     },
     "metadata": {},
     "output_type": "display_data"
    },
    {
     "name": "stdout",
     "output_type": "stream",
     "text": [
      "\n",
      "{'test_loss': 1.7233253717422485, 'test_acc': 0.8366999626159668}\n",
      "Test Accuracy: 75.61 %\n"
     ]
    },
    {
     "data": {
      "application/vnd.jupyter.widget-view+json": {
       "model_id": "dbc98c541ba24afdaea1a1c59e3543bb",
       "version_major": 2,
       "version_minor": 0
      },
      "text/plain": [
       "HBox(children=(FloatProgress(value=0.0, description='0/1(e)', max=79.0, style=ProgressStyle(description_width=…"
      ]
     },
     "metadata": {},
     "output_type": "display_data"
    },
    {
     "name": "stdout",
     "output_type": "stream",
     "text": [
      "\n",
      "{'test_loss': 1.5904748439788818, 'test_acc': 0.9304999709129333}\n"
     ]
    },
    {
     "data": {
      "application/vnd.jupyter.widget-view+json": {
       "model_id": "cae6b6ea9c6541c2a755f1f4e658f027",
       "version_major": 2,
       "version_minor": 0
      },
      "text/plain": [
       "HBox(children=(FloatProgress(value=0.0, description='0/1(e)', max=79.0, style=ProgressStyle(description_width=…"
      ]
     },
     "metadata": {},
     "output_type": "display_data"
    },
    {
     "name": "stdout",
     "output_type": "stream",
     "text": [
      "\n",
      "{'test_loss': 1.592949390411377, 'test_acc': 0.9330999851226807}\n"
     ]
    },
    {
     "data": {
      "application/vnd.jupyter.widget-view+json": {
       "model_id": "c1bbef6f73c54118b4c6776cf23378de",
       "version_major": 2,
       "version_minor": 0
      },
      "text/plain": [
       "HBox(children=(FloatProgress(value=0.0, description='0/1(e)', max=79.0, style=ProgressStyle(description_width=…"
      ]
     },
     "metadata": {},
     "output_type": "display_data"
    },
    {
     "name": "stdout",
     "output_type": "stream",
     "text": [
      "\n",
      "{'test_loss': 1.6168115139007568, 'test_acc': 0.8947999477386475}\n"
     ]
    },
    {
     "data": {
      "application/vnd.jupyter.widget-view+json": {
       "model_id": "cba6f28f6f814294baa8f4ff7e09e613",
       "version_major": 2,
       "version_minor": 0
      },
      "text/plain": [
       "HBox(children=(FloatProgress(value=0.0, description='0/1(e)', max=79.0, style=ProgressStyle(description_width=…"
      ]
     },
     "metadata": {},
     "output_type": "display_data"
    },
    {
     "name": "stdout",
     "output_type": "stream",
     "text": [
      "\n",
      "{'test_loss': 1.6267756223678589, 'test_acc': 0.8718999624252319}\n",
      "Test Accuracy: 89.90 %\n"
     ]
    },
    {
     "data": {
      "application/vnd.jupyter.widget-view+json": {
       "model_id": "601a0a0ac00044f3a5d3b77f568a640b",
       "version_major": 2,
       "version_minor": 0
      },
      "text/plain": [
       "HBox(children=(FloatProgress(value=0.0, description='0/1(e)', max=79.0, style=ProgressStyle(description_width=…"
      ]
     },
     "metadata": {},
     "output_type": "display_data"
    },
    {
     "name": "stdout",
     "output_type": "stream",
     "text": [
      "\n",
      "{'test_loss': 1.9320011138916016, 'test_acc': 0.7375999689102173}\n"
     ]
    },
    {
     "data": {
      "application/vnd.jupyter.widget-view+json": {
       "model_id": "08998829150f48baa883faa68f421995",
       "version_major": 2,
       "version_minor": 0
      },
      "text/plain": [
       "HBox(children=(FloatProgress(value=0.0, description='0/1(e)', max=79.0, style=ProgressStyle(description_width=…"
      ]
     },
     "metadata": {},
     "output_type": "display_data"
    },
    {
     "name": "stdout",
     "output_type": "stream",
     "text": [
      "\n",
      "{'test_loss': 1.9259599447250366, 'test_acc': 0.7675999999046326}\n"
     ]
    },
    {
     "data": {
      "application/vnd.jupyter.widget-view+json": {
       "model_id": "e1526d6b0f5f40f4a744c57f76a048a7",
       "version_major": 2,
       "version_minor": 0
      },
      "text/plain": [
       "HBox(children=(FloatProgress(value=0.0, description='0/1(e)', max=79.0, style=ProgressStyle(description_width=…"
      ]
     },
     "metadata": {},
     "output_type": "display_data"
    },
    {
     "name": "stdout",
     "output_type": "stream",
     "text": [
      "\n",
      "{'test_loss': 1.9016832113265991, 'test_acc': 0.7181000113487244}\n"
     ]
    },
    {
     "data": {
      "application/vnd.jupyter.widget-view+json": {
       "model_id": "be852831fea94840be788f7100e8c7b7",
       "version_major": 2,
       "version_minor": 0
      },
      "text/plain": [
       "HBox(children=(FloatProgress(value=0.0, description='0/1(e)', max=79.0, style=ProgressStyle(description_width=…"
      ]
     },
     "metadata": {},
     "output_type": "display_data"
    },
    {
     "name": "stdout",
     "output_type": "stream",
     "text": [
      "\n",
      "{'test_loss': 1.7711987495422363, 'test_acc': 0.8068000078201294}\n",
      "Test Accuracy: 68.62 %\n"
     ]
    },
    {
     "data": {
      "application/vnd.jupyter.widget-view+json": {
       "model_id": "33e68fd181e047cdbab96788c1f7d77a",
       "version_major": 2,
       "version_minor": 0
      },
      "text/plain": [
       "HBox(children=(FloatProgress(value=0.0, description='0/1(e)', max=79.0, style=ProgressStyle(description_width=…"
      ]
     },
     "metadata": {},
     "output_type": "display_data"
    },
    {
     "name": "stdout",
     "output_type": "stream",
     "text": [
      "\n",
      "{'test_loss': 1.648491621017456, 'test_acc': 0.9062999486923218}\n"
     ]
    },
    {
     "data": {
      "application/vnd.jupyter.widget-view+json": {
       "model_id": "86f9b2ff2f524667bec6a6f6f5ba9bcd",
       "version_major": 2,
       "version_minor": 0
      },
      "text/plain": [
       "HBox(children=(FloatProgress(value=0.0, description='0/1(e)', max=79.0, style=ProgressStyle(description_width=…"
      ]
     },
     "metadata": {},
     "output_type": "display_data"
    },
    {
     "name": "stdout",
     "output_type": "stream",
     "text": [
      "\n",
      "{'test_loss': 1.64439857006073, 'test_acc': 0.9174999594688416}\n"
     ]
    },
    {
     "data": {
      "application/vnd.jupyter.widget-view+json": {
       "model_id": "b1ae0600dcbd4c238499ff1a37c98033",
       "version_major": 2,
       "version_minor": 0
      },
      "text/plain": [
       "HBox(children=(FloatProgress(value=0.0, description='0/1(e)', max=79.0, style=ProgressStyle(description_width=…"
      ]
     },
     "metadata": {},
     "output_type": "display_data"
    },
    {
     "name": "stdout",
     "output_type": "stream",
     "text": [
      "\n",
      "{'test_loss': 1.6455990076065063, 'test_acc': 0.8819999694824219}\n"
     ]
    },
    {
     "data": {
      "application/vnd.jupyter.widget-view+json": {
       "model_id": "98bd2e68911d44ee9b4b87b07f811f7e",
       "version_major": 2,
       "version_minor": 0
      },
      "text/plain": [
       "HBox(children=(FloatProgress(value=0.0, description='0/1(e)', max=79.0, style=ProgressStyle(description_width=…"
      ]
     },
     "metadata": {},
     "output_type": "display_data"
    },
    {
     "name": "stdout",
     "output_type": "stream",
     "text": [
      "\n",
      "{'test_loss': 1.6635234355926514, 'test_acc': 0.8499000072479248}\n",
      "Test Accuracy: 87.24 %\n"
     ]
    },
    {
     "data": {
      "application/vnd.jupyter.widget-view+json": {
       "model_id": "be0ea3f6e4d8410aabab5b172c82a130",
       "version_major": 2,
       "version_minor": 0
      },
      "text/plain": [
       "HBox(children=(FloatProgress(value=0.0, description='0/1(e)', max=79.0, style=ProgressStyle(description_width=…"
      ]
     },
     "metadata": {},
     "output_type": "display_data"
    },
    {
     "name": "stdout",
     "output_type": "stream",
     "text": [
      "\n",
      "{'test_loss': 2.0109992027282715, 'test_acc': 0.6373999714851379}\n"
     ]
    },
    {
     "data": {
      "application/vnd.jupyter.widget-view+json": {
       "model_id": "a5144c13918b4887a97fa5b0ff599335",
       "version_major": 2,
       "version_minor": 0
      },
      "text/plain": [
       "HBox(children=(FloatProgress(value=0.0, description='0/1(e)', max=79.0, style=ProgressStyle(description_width=…"
      ]
     },
     "metadata": {},
     "output_type": "display_data"
    },
    {
     "name": "stdout",
     "output_type": "stream",
     "text": [
      "\n",
      "{'test_loss': 1.9996622800827026, 'test_acc': 0.6705999970436096}\n"
     ]
    },
    {
     "data": {
      "application/vnd.jupyter.widget-view+json": {
       "model_id": "f359747df88345adb7996fd626dcd845",
       "version_major": 2,
       "version_minor": 0
      },
      "text/plain": [
       "HBox(children=(FloatProgress(value=0.0, description='0/1(e)', max=79.0, style=ProgressStyle(description_width=…"
      ]
     },
     "metadata": {},
     "output_type": "display_data"
    },
    {
     "name": "stdout",
     "output_type": "stream",
     "text": [
      "\n",
      "{'test_loss': 1.9776962995529175, 'test_acc': 0.6251999735832214}\n"
     ]
    },
    {
     "data": {
      "application/vnd.jupyter.widget-view+json": {
       "model_id": "0d7e165d15db4e9bac05410c90efd823",
       "version_major": 2,
       "version_minor": 0
      },
      "text/plain": [
       "HBox(children=(FloatProgress(value=0.0, description='0/1(e)', max=79.0, style=ProgressStyle(description_width=…"
      ]
     },
     "metadata": {},
     "output_type": "display_data"
    },
    {
     "name": "stdout",
     "output_type": "stream",
     "text": [
      "\n",
      "{'test_loss': 1.8063191175460815, 'test_acc': 0.7805999517440796}\n",
      "Test Accuracy: 62.37 %\n"
     ]
    },
    {
     "data": {
      "application/vnd.jupyter.widget-view+json": {
       "model_id": "89349ef795324643a35bcfbd452198d6",
       "version_major": 2,
       "version_minor": 0
      },
      "text/plain": [
       "HBox(children=(FloatProgress(value=0.0, description='0/1(e)', max=79.0, style=ProgressStyle(description_width=…"
      ]
     },
     "metadata": {},
     "output_type": "display_data"
    },
    {
     "name": "stdout",
     "output_type": "stream",
     "text": [
      "\n",
      "{'test_loss': 1.7502870559692383, 'test_acc': 0.8402000069618225}\n"
     ]
    },
    {
     "data": {
      "application/vnd.jupyter.widget-view+json": {
       "model_id": "7a927f6e1eb845aa8ed8f85ea65f72f8",
       "version_major": 2,
       "version_minor": 0
      },
      "text/plain": [
       "HBox(children=(FloatProgress(value=0.0, description='0/1(e)', max=79.0, style=ProgressStyle(description_width=…"
      ]
     },
     "metadata": {},
     "output_type": "display_data"
    },
    {
     "name": "stdout",
     "output_type": "stream",
     "text": [
      "\n",
      "{'test_loss': 1.7296216487884521, 'test_acc': 0.8876000046730042}\n"
     ]
    },
    {
     "data": {
      "application/vnd.jupyter.widget-view+json": {
       "model_id": "59543408cc1440808171f994d4b8eb81",
       "version_major": 2,
       "version_minor": 0
      },
      "text/plain": [
       "HBox(children=(FloatProgress(value=0.0, description='0/1(e)', max=79.0, style=ProgressStyle(description_width=…"
      ]
     },
     "metadata": {},
     "output_type": "display_data"
    },
    {
     "name": "stdout",
     "output_type": "stream",
     "text": [
      "\n",
      "{'test_loss': 1.6936529874801636, 'test_acc': 0.863599956035614}\n"
     ]
    },
    {
     "data": {
      "application/vnd.jupyter.widget-view+json": {
       "model_id": "c7db66fda18546358ca59f4c68d2776c",
       "version_major": 2,
       "version_minor": 0
      },
      "text/plain": [
       "HBox(children=(FloatProgress(value=0.0, description='0/1(e)', max=79.0, style=ProgressStyle(description_width=…"
      ]
     },
     "metadata": {},
     "output_type": "display_data"
    },
    {
     "name": "stdout",
     "output_type": "stream",
     "text": [
      "\n",
      "{'test_loss': 1.7288285493850708, 'test_acc': 0.8011999726295471}\n",
      "Test Accuracy: 82.28 %\n"
     ]
    },
    {
     "data": {
      "application/vnd.jupyter.widget-view+json": {
       "model_id": "e648a23218c34dbeac98fd2eef79a625",
       "version_major": 2,
       "version_minor": 0
      },
      "text/plain": [
       "HBox(children=(FloatProgress(value=0.0, description='0/1(e)', max=79.0, style=ProgressStyle(description_width=…"
      ]
     },
     "metadata": {},
     "output_type": "display_data"
    },
    {
     "name": "stdout",
     "output_type": "stream",
     "text": [
      "\n",
      "{'test_loss': 2.0734546184539795, 'test_acc': 0.5303999781608582}\n"
     ]
    },
    {
     "data": {
      "application/vnd.jupyter.widget-view+json": {
       "model_id": "8fce400bacfd430fb007b6564c82c1d0",
       "version_major": 2,
       "version_minor": 0
      },
      "text/plain": [
       "HBox(children=(FloatProgress(value=0.0, description='0/1(e)', max=79.0, style=ProgressStyle(description_width=…"
      ]
     },
     "metadata": {},
     "output_type": "display_data"
    },
    {
     "name": "stdout",
     "output_type": "stream",
     "text": [
      "\n",
      "{'test_loss': 2.062990188598633, 'test_acc': 0.5622999668121338}\n"
     ]
    },
    {
     "data": {
      "application/vnd.jupyter.widget-view+json": {
       "model_id": "74ca6c54aeb44812b71293cd7417ef61",
       "version_major": 2,
       "version_minor": 0
      },
      "text/plain": [
       "HBox(children=(FloatProgress(value=0.0, description='0/1(e)', max=79.0, style=ProgressStyle(description_width=…"
      ]
     },
     "metadata": {},
     "output_type": "display_data"
    },
    {
     "name": "stdout",
     "output_type": "stream",
     "text": [
      "\n",
      "{'test_loss': 2.0440280437469482, 'test_acc': 0.519599974155426}\n"
     ]
    },
    {
     "data": {
      "application/vnd.jupyter.widget-view+json": {
       "model_id": "e8c1d2c077fe446ab8d7f69074187a36",
       "version_major": 2,
       "version_minor": 0
      },
      "text/plain": [
       "HBox(children=(FloatProgress(value=0.0, description='0/1(e)', max=79.0, style=ProgressStyle(description_width=…"
      ]
     },
     "metadata": {},
     "output_type": "display_data"
    },
    {
     "name": "stdout",
     "output_type": "stream",
     "text": [
      "\n",
      "{'test_loss': 1.8434628248214722, 'test_acc': 0.7480999827384949}\n",
      "Test Accuracy: 55.15 %\n"
     ]
    },
    {
     "data": {
      "application/vnd.jupyter.widget-view+json": {
       "model_id": "d1d6c9b8d3614cdf89e8b37cb5f3f18a",
       "version_major": 2,
       "version_minor": 0
      },
      "text/plain": [
       "HBox(children=(FloatProgress(value=0.0, description='0/1(e)', max=79.0, style=ProgressStyle(description_width=…"
      ]
     },
     "metadata": {},
     "output_type": "display_data"
    },
    {
     "name": "stdout",
     "output_type": "stream",
     "text": [
      "\n",
      "{'test_loss': 1.879044771194458, 'test_acc': 0.7124999761581421}\n"
     ]
    },
    {
     "data": {
      "application/vnd.jupyter.widget-view+json": {
       "model_id": "8ea77215f43845d8b55f9c44c452fab1",
       "version_major": 2,
       "version_minor": 0
      },
      "text/plain": [
       "HBox(children=(FloatProgress(value=0.0, description='0/1(e)', max=79.0, style=ProgressStyle(description_width=…"
      ]
     },
     "metadata": {},
     "output_type": "display_data"
    },
    {
     "name": "stdout",
     "output_type": "stream",
     "text": [
      "\n",
      "{'test_loss': 1.8436518907546997, 'test_acc': 0.8330999612808228}\n"
     ]
    },
    {
     "data": {
      "application/vnd.jupyter.widget-view+json": {
       "model_id": "00884360331e494ebc1ff2ba596ba9a1",
       "version_major": 2,
       "version_minor": 0
      },
      "text/plain": [
       "HBox(children=(FloatProgress(value=0.0, description='0/1(e)', max=79.0, style=ProgressStyle(description_width=…"
      ]
     },
     "metadata": {},
     "output_type": "display_data"
    },
    {
     "name": "stdout",
     "output_type": "stream",
     "text": [
      "\n",
      "{'test_loss': 1.7680000066757202, 'test_acc': 0.8307999968528748}\n"
     ]
    },
    {
     "data": {
      "application/vnd.jupyter.widget-view+json": {
       "model_id": "f8d72771110a4597a89c5e1df2339b05",
       "version_major": 2,
       "version_minor": 0
      },
      "text/plain": [
       "HBox(children=(FloatProgress(value=0.0, description='0/1(e)', max=79.0, style=ProgressStyle(description_width=…"
      ]
     },
     "metadata": {},
     "output_type": "display_data"
    },
    {
     "name": "stdout",
     "output_type": "stream",
     "text": [
      "\n",
      "{'test_loss': 1.8210514783859253, 'test_acc': 0.714199960231781}\n",
      "Test Accuracy: 74.60 %\n"
     ]
    },
    {
     "data": {
      "application/vnd.jupyter.widget-view+json": {
       "model_id": "5a9a27b17b6a4220a6b01f6f05636023",
       "version_major": 2,
       "version_minor": 0
      },
      "text/plain": [
       "HBox(children=(FloatProgress(value=0.0, description='0/1(e)', max=79.0, style=ProgressStyle(description_width=…"
      ]
     },
     "metadata": {},
     "output_type": "display_data"
    },
    {
     "name": "stdout",
     "output_type": "stream",
     "text": [
      "\n",
      "{'test_loss': 2.127370834350586, 'test_acc': 0.4293999969959259}\n"
     ]
    },
    {
     "data": {
      "application/vnd.jupyter.widget-view+json": {
       "model_id": "a2922b987e91487c977d1f4add47e80c",
       "version_major": 2,
       "version_minor": 0
      },
      "text/plain": [
       "HBox(children=(FloatProgress(value=0.0, description='0/1(e)', max=79.0, style=ProgressStyle(description_width=…"
      ]
     },
     "metadata": {},
     "output_type": "display_data"
    },
    {
     "name": "stdout",
     "output_type": "stream",
     "text": [
      "\n",
      "{'test_loss': 2.1217362880706787, 'test_acc': 0.44759997725486755}\n"
     ]
    },
    {
     "data": {
      "application/vnd.jupyter.widget-view+json": {
       "model_id": "601287f0d4274922ad495239366c7ad7",
       "version_major": 2,
       "version_minor": 0
      },
      "text/plain": [
       "HBox(children=(FloatProgress(value=0.0, description='0/1(e)', max=79.0, style=ProgressStyle(description_width=…"
      ]
     },
     "metadata": {},
     "output_type": "display_data"
    },
    {
     "name": "stdout",
     "output_type": "stream",
     "text": [
      "\n",
      "{'test_loss': 2.1024491786956787, 'test_acc': 0.41849997639656067}\n"
     ]
    },
    {
     "data": {
      "application/vnd.jupyter.widget-view+json": {
       "model_id": "d3d123d2c22a49b1a7e1248b3bfa7141",
       "version_major": 2,
       "version_minor": 0
      },
      "text/plain": [
       "HBox(children=(FloatProgress(value=0.0, description='0/1(e)', max=79.0, style=ProgressStyle(description_width=…"
      ]
     },
     "metadata": {},
     "output_type": "display_data"
    },
    {
     "name": "stdout",
     "output_type": "stream",
     "text": [
      "\n",
      "{'test_loss': 1.8847761154174805, 'test_acc': 0.70169997215271}\n",
      "Test Accuracy: 47.47 %\n"
     ]
    }
   ],
   "source": [
    "#plot\n",
    "\n",
    "trainset = MNIST(\".\", train=True, download=True, transform=transform)\n",
    "testset = MNIST(\".\", train=False, download=True, transform=transform)\n",
    "trainset.data = trainset.data[0:27105]\n",
    "trainset.targets = trainset.targets[0:27105]\n",
    "\n",
    "sigma_values = [0, 0.5, 1.0, 1.5, 2.0, 2.5]\n",
    "variance_values = [0, 0.2, 0.4, 0.6, 0.8, 1.0]\n",
    "blur_acc_control = []\n",
    "blur_acc_sleep = []\n",
    "blur_acc_finetune_noise = []\n",
    "blur_acc__finetune_blur = []\n",
    "blur_acc_dis = []\n",
    "noise_acc_control = []\n",
    "noise_acc_sleep = []\n",
    "noise_acc_finetune_noise = []\n",
    "noise_acc__finetune_blur = []\n",
    "noise_acc_dis = []\n",
    "\n",
    "for i in range(len(sigma_values)):\n",
    "    \n",
    "    j = i\n",
    "    \n",
    "    #blur data\n",
    "    trainset = MNIST(\".\", train=True, download=True, transform=transform)\n",
    "    testset = MNIST(\".\", train=False, download=True, transform=transform)\n",
    "    trainset.data = trainset.data[0:27105]\n",
    "    trainset.targets = trainset.targets[0:27105]\n",
    "\n",
    "\n",
    "\n",
    "    # function to blur each MNIST image\n",
    "    def blur(x, sig):\n",
    "        return gaussian_filter(x, sigma=sig)\n",
    "    \n",
    "\n",
    "    # Distort the test set #\n",
    "    for i in range(len(testset)):\n",
    "        # gaussian blur the image with the chosen sigma value\n",
    "        blurredImage = blur(testset.test_data[i].numpy(), sigma_values[j])\n",
    "        # update the training set with the blurred image\n",
    "        testset.test_data[i] = torch.from_numpy(blurredImage)\n",
    "    \n",
    "    trainloader = DataLoader(trainset, batch_size=128, shuffle=True)\n",
    "    testloader = DataLoader(testset, batch_size=128, shuffle=True)\n",
    "    \n",
    "    #test the controlled network\n",
    "    model = torch.load('save.pkl')\n",
    "    loss_function = nn.CrossEntropyLoss()\n",
    "    # live_loss_plot = LiveLossPlot()\n",
    "    optimiser = optim.SGD(model.parameters(), lr=0.1, momentum=0.5)\n",
    "    # trial = torchbearer.Trial(model, optimiser, loss_function, callbacks=[live_loss_plot], metrics=['loss', 'accuracy']).to(device)\n",
    "    trial = torchbearer.Trial(model, optimiser, loss_function,metrics=['loss', 'accuracy']).to(device)\n",
    "    trial.with_generators(trainloader, test_generator=testloader)\n",
    "    results = trial.evaluate(data_key=torchbearer.TEST_DATA)\n",
    "    print(results)\n",
    "    blur_acc_control.append(100.0 * results[\"test_acc\"])\n",
    "    \n",
    "    #test the sleeping network\n",
    "    model = torch.load('save2.pkl')\n",
    "    loss_function = nn.CrossEntropyLoss()\n",
    "    # live_loss_plot = LiveLossPlot()\n",
    "    optimiser = optim.SGD(model.parameters(), lr=0.1, momentum=0.5)\n",
    "    # trial = torchbearer.Trial(model, optimiser, loss_function, callbacks=[live_loss_plot], metrics=['loss', 'accuracy']).to(device)\n",
    "    trial = torchbearer.Trial(model, optimiser, loss_function,metrics=['loss', 'accuracy']).to(device)\n",
    "    trial.with_generators(trainloader, test_generator=testloader)\n",
    "    results = trial.evaluate(data_key=torchbearer.TEST_DATA)\n",
    "    print(results)\n",
    "    blur_acc_sleep.append(100.0 * results[\"test_acc\"])\n",
    "    \n",
    "    #test the fine-tuning-blur network\n",
    "    model = torch.load('save_blur.pkl')\n",
    "    loss_function = nn.CrossEntropyLoss()\n",
    "    # live_loss_plot = LiveLossPlot()\n",
    "    optimiser = optim.SGD(model.parameters(), lr=0.1, momentum=0.5)\n",
    "    trial = torchbearer.Trial(model, optimiser, loss_function, metrics=['loss', 'accuracy']).to(device)\n",
    "    trial.with_generators(trainloader, test_generator=testloader)\n",
    "    results = trial.evaluate(data_key=torchbearer.TEST_DATA)\n",
    "    print(results)\n",
    "    blur_acc__finetune_blur.append(100.0 * results[\"test_acc\"])\n",
    "    \n",
    "    #test the fine-tuning-noise network\n",
    "    model = torch.load('save_noise.pkl')\n",
    "    loss_function = nn.CrossEntropyLoss()\n",
    "    # live_loss_plot = LiveLossPlot()\n",
    "    optimiser = optim.SGD(model.parameters(), lr=0.1, momentum=0.5)\n",
    "    trial = torchbearer.Trial(model, optimiser, loss_function, metrics=['loss', 'accuracy']).to(device)\n",
    "    trial.with_generators(trainloader, test_generator=testloader)\n",
    "    results = trial.evaluate(data_key=torchbearer.TEST_DATA)\n",
    "    print(results)\n",
    "    blur_acc_finetune_noise.append(100.0 * results[\"test_acc\"])\n",
    "    \n",
    "    #test the distillion network\n",
    "    model = torch.load('save_dis.pkl')\n",
    "    model.eval()\n",
    "\n",
    "    # Compute the model accuracy on the test set\n",
    "    correct = 0\n",
    "    total = 0\n",
    "\n",
    "    for data in testloader:\n",
    "        inputs, labels = data\n",
    "        inputs = torch.reshape(inputs, [-1, 1,28,28])\n",
    "        inputs = inputs.to(device)\n",
    "        labels = labels.to(device)\n",
    "        outputs = model(inputs)\n",
    "        predictions = torch.argmax(outputs, 1)\n",
    "        correct += (predictions == labels).sum().float()\n",
    "        total += len(labels)\n",
    "    print('Test Accuracy: %2.2f %%' % ((100.0 * correct) / total))\n",
    "    blur_acc_dis.append(((100.0 * correct) / total).item())\n",
    "    \n",
    "    \n",
    "    \n",
    "    #noise data\n",
    "    trainset = MNIST(\".\", train=True, download=True, transform=transform)\n",
    "    testset = MNIST(\".\", train=False, download=True, transform=transform)\n",
    "    trainset.data = trainset.data[0:27105]\n",
    "    trainset.targets = trainset.targets[0:27105]\n",
    "    \n",
    "    def noise(x, var):\n",
    "        return x + var * x.std() * np.random.random(x.shape)\n",
    "\n",
    "    for i in range(len(testset)):\n",
    "        # add gaussian noise to the image with the chosen variance value\n",
    "        noisyImage = noise(testset.test_data[i].numpy(), variance_values[j])\n",
    "        # update the training set with the noise image\n",
    "        testset.test_data[i] = torch.from_numpy(noisyImage)\n",
    "    \n",
    "    trainloader = DataLoader(trainset, batch_size=128, shuffle=True)\n",
    "    testloader = DataLoader(testset, batch_size=128, shuffle=True)\n",
    "    \n",
    "    #test the controlled network\n",
    "    model = torch.load('save.pkl')\n",
    "    loss_function = nn.CrossEntropyLoss()\n",
    "    # live_loss_plot = LiveLossPlot()\n",
    "    optimiser = optim.SGD(model.parameters(), lr=0.1, momentum=0.5)\n",
    "    trial = torchbearer.Trial(model, optimiser, loss_function, metrics=['loss', 'accuracy']).to(device)\n",
    "    trial.with_generators(trainloader, test_generator=testloader)\n",
    "    results = trial.evaluate(data_key=torchbearer.TEST_DATA)\n",
    "    print(results)\n",
    "    noise_acc_control.append(100.0 * results[\"test_acc\"])\n",
    "    \n",
    "    #test the sleeping network\n",
    "    model = torch.load('save2.pkl')\n",
    "    loss_function = nn.CrossEntropyLoss()\n",
    "    # live_loss_plot = LiveLossPlot()\n",
    "    optimiser = optim.SGD(model.parameters(), lr=0.1, momentum=0.5)\n",
    "    trial = torchbearer.Trial(model, optimiser, loss_function, metrics=['loss', 'accuracy']).to(device)\n",
    "    trial.with_generators(trainloader, test_generator=testloader)\n",
    "    results = trial.evaluate(data_key=torchbearer.TEST_DATA)\n",
    "    print(results)\n",
    "    noise_acc_sleep.append(100.0 * results[\"test_acc\"])\n",
    "    \n",
    "    #test the fine-tuning-blur network\n",
    "    model = torch.load('save_blur.pkl')\n",
    "    loss_function = nn.CrossEntropyLoss()\n",
    "    # live_loss_plot = LiveLossPlot()\n",
    "    optimiser = optim.SGD(model.parameters(), lr=0.1, momentum=0.5)\n",
    "    trial = torchbearer.Trial(model, optimiser, loss_function, metrics=['loss', 'accuracy']).to(device)\n",
    "    trial.with_generators(trainloader, test_generator=testloader)\n",
    "    results = trial.evaluate(data_key=torchbearer.TEST_DATA)\n",
    "    print(results)\n",
    "    noise_acc__finetune_blur.append(100.0 * results[\"test_acc\"])\n",
    "    \n",
    "    #test the fine-tuning-noise network\n",
    "    model = torch.load('save_noise.pkl')\n",
    "    loss_function = nn.CrossEntropyLoss()\n",
    "    # live_loss_plot = LiveLossPlot()\n",
    "    optimiser = optim.SGD(model.parameters(), lr=0.1, momentum=0.5)\n",
    "    trial = torchbearer.Trial(model, optimiser, loss_function, metrics=['loss', 'accuracy']).to(device)\n",
    "    trial.with_generators(trainloader, test_generator=testloader)\n",
    "    results = trial.evaluate(data_key=torchbearer.TEST_DATA)\n",
    "    print(results)\n",
    "    noise_acc_finetune_noise.append(100.0 * results[\"test_acc\"])\n",
    "    \n",
    "    #test the distillion network\n",
    "    model = torch.load('save_dis.pkl')\n",
    "    model.eval()\n",
    "    # Compute the model accuracy on the test set\n",
    "    correct = 0\n",
    "    total = 0\n",
    "    for data in testloader:\n",
    "        inputs, labels = data\n",
    "        inputs = torch.reshape(inputs, [-1, 1,28,28])\n",
    "        inputs = inputs.to(device)\n",
    "        labels = labels.to(device)\n",
    "        outputs = model(inputs)\n",
    "        predictions = torch.argmax(outputs, 1)\n",
    "        correct += (predictions == labels).sum().float()\n",
    "        total += len(labels)\n",
    "    print('Test Accuracy: %2.2f %%' % ((100.0 * correct) / total))\n",
    "    noise_acc_dis.append(((100.0 * correct) / total).item())"
   ]
  },
  {
   "cell_type": "code",
   "execution_count": 13,
   "metadata": {},
   "outputs": [
    {
     "data": {
      "image/png": "[encoded data removed]",
      "text/plain": [
       "<Figure size 432x288 with 1 Axes>"
      ]
     },
     "metadata": {
      "needs_background": "light"
     },
     "output_type": "display_data"
    }
   ],
   "source": [
    "\n",
    "\n",
    "plt.plot(sigma_values, blur_acc_control, label='Control')\n",
    "plt.plot(sigma_values, blur_acc_sleep, label='Sleep')\n",
    "plt.plot(sigma_values, blur_acc_finetune_noise, label='Finetune-noise')\n",
    "plt.plot(sigma_values, blur_acc__finetune_blur, label='Finetune-blur')\n",
    "plt.plot(sigma_values, blur_acc_dis, label='Dif.Dist')\n",
    "plt.legend()\n",
    "plt.show()"
   ]
  },
  {
   "cell_type": "code",
   "execution_count": 14,
   "metadata": {},
   "outputs": [
    {
     "data": {
      "image/png": "[encoded data removed]",
      "text/plain": [
       "<Figure size 432x288 with 1 Axes>"
      ]
     },
     "metadata": {
      "needs_background": "light"
     },
     "output_type": "display_data"
    }
   ],
   "source": [
    "plt.plot(variance_values, noise_acc_control, label='Control')\n",
    "plt.plot(variance_values, noise_acc_sleep, label='Sleep')\n",
    "plt.plot(variance_values, noise_acc_finetune_noise, label='Finetune-noise')\n",
    "plt.plot(variance_values, noise_acc__finetune_blur, label='Finetune-blur')\n",
    "plt.plot(variance_values, noise_acc_dis, label='Dif.Dist')\n",
    "plt.legend()\n",
    "plt.show()"
   ]
  }
 ],
 "metadata": {
  "kernelspec": {
   "display_name": "Python 3",
   "language": "python",
   "name": "python3"
  },
  "language_info": {
   "codemirror_mode": {
    "name": "ipython",
    "version": 3
   },
   "file_extension": ".py",
   "mimetype": "text/x-python",
   "name": "python",
   "nbconvert_exporter": "python",
   "pygments_lexer": "ipython3",
   "version": "3.7.3"
  }
 },
 "nbformat": 4,
 "nbformat_minor": 2
}
